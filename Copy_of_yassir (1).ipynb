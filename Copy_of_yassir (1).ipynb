{
  "nbformat": 4,
  "nbformat_minor": 0,
  "metadata": {
    "colab": {
      "name": "Copy of yassir.ipynb",
      "provenance": [],
      "collapsed_sections": [
        "McAUKwy7FJ1v",
        "YZncNlOsFJ1w"
      ],
      "toc_visible": true
    },
    "kernelspec": {
      "display_name": "Python 3",
      "language": "python",
      "name": "python3"
    },
    "language_info": {
      "codemirror_mode": {
        "name": "ipython",
        "version": 3
      },
      "file_extension": ".py",
      "mimetype": "text/x-python",
      "name": "python",
      "nbconvert_exporter": "python",
      "pygments_lexer": "ipython3",
      "version": "3.8.4"
    }
  },
  "cells": [
    {
      "cell_type": "code",
      "metadata": {
        "id": "IeiU_X2fFJ1S"
      },
      "source": [
        "import pandas as pd\n",
        "import numpy as np\n",
        "import pylab as plt\n",
        "from sklearn.ensemble import RandomForestRegressor\n",
        "from sklearn.tree import DecisionTreeRegressor\n",
        "from sklearn import metrics\n",
        "from sklearn import cluster\n",
        "from sklearn import model_selection\n",
        "from sklearn.preprocessing import StandardScaler, PowerTransformer\n",
        "from sklearn.linear_model import LinearRegression \n",
        "from sklearn.compose import TransformedTargetRegressor\n",
        "from sklearn import pipeline \n",
        "from sklearn.compose import ColumnTransformer\n",
        "from sklearn.base import BaseEstimator, TransformerMixin, RegressorMixin\n",
        "\n",
        "%matplotlib inline"
      ],
      "execution_count": 1,
      "outputs": []
    },
    {
      "cell_type": "code",
      "metadata": {
        "id": "0vuACQLxFJ1f"
      },
      "source": [
        "# Calculate average speed, and use that \n",
        "class AvgSpeed(BaseEstimator, RegressorMixin):\n",
        "    def fit(self, X, y):\n",
        "        if 'Trip_distance' not in X.columns:\n",
        "            raise KeyError('X Dataframe needs to have column \"Trip_distance\"')\n",
        "        self.avg = (y / X['Trip_distance']).mean()\n",
        "        return self\n",
        "    def predict(self, X):\n",
        "        if 'Trip_distance' not in X.columns:\n",
        "            raise KeyError('X Dataframe needs to have column \"Trip_distance\"')\n",
        "        return self.avg * X['Trip_distance']"
      ],
      "execution_count": 2,
      "outputs": []
    },
    {
      "cell_type": "code",
      "metadata": {
        "id": "rLZ9lKH6TTia"
      },
      "source": [
        "from math import radians, cos, sin, asin, sqrt \r\n",
        "def distance(lat1, lat2, lon1, lon2): \r\n",
        "      \r\n",
        "    # The math module contains a function named \r\n",
        "    # radians which converts from degrees to radians. \r\n",
        "    lon1 = radians(lon1) \r\n",
        "    lon2 = radians(lon2) \r\n",
        "    lat1 = radians(lat1) \r\n",
        "    lat2 = radians(lat2) \r\n",
        "       \r\n",
        "    # Haversine formula  \r\n",
        "    dlon = lon2 - lon1  \r\n",
        "    dlat = lat2 - lat1 \r\n",
        "    a = sin(dlat / 2)**2 + cos(lat1) * cos(lat2) * sin(dlon / 2)**2\r\n",
        "  \r\n",
        "    c = 2 * asin(sqrt(a))  \r\n",
        "     \r\n",
        "    # Radius of earth in kilometers. Use 3956 for miles \r\n",
        "    r = 6371\r\n",
        "       \r\n",
        "    # calculate the result \r\n",
        "    return(c * r*1000) "
      ],
      "execution_count": 4,
      "outputs": []
    },
    {
      "cell_type": "markdown",
      "metadata": {
        "id": "lwBDy_rsFJ1g"
      },
      "source": [
        "# Load data"
      ]
    },
    {
      "cell_type": "code",
      "metadata": {
        "colab": {
          "base_uri": "https://localhost:8080/",
          "height": 235
        },
        "id": "XfSqP0AtFJ1h",
        "outputId": "895db60d-fc94-4f9f-c6f9-fb01b46460a8"
      },
      "source": [
        "# load training\n",
        "training = pd.read_csv('Train (4).csv').set_index('ID')\n",
        "training['Timestamp'] = pd.to_datetime(training['Timestamp'])\n",
        "training.head()"
      ],
      "execution_count": 5,
      "outputs": [
        {
          "output_type": "execute_result",
          "data": {
            "text/html": [
              "<div>\n",
              "<style scoped>\n",
              "    .dataframe tbody tr th:only-of-type {\n",
              "        vertical-align: middle;\n",
              "    }\n",
              "\n",
              "    .dataframe tbody tr th {\n",
              "        vertical-align: top;\n",
              "    }\n",
              "\n",
              "    .dataframe thead th {\n",
              "        text-align: right;\n",
              "    }\n",
              "</style>\n",
              "<table border=\"1\" class=\"dataframe\">\n",
              "  <thead>\n",
              "    <tr style=\"text-align: right;\">\n",
              "      <th></th>\n",
              "      <th>Timestamp</th>\n",
              "      <th>Origin_lat</th>\n",
              "      <th>Origin_lon</th>\n",
              "      <th>Destination_lat</th>\n",
              "      <th>Destination_lon</th>\n",
              "      <th>Trip_distance</th>\n",
              "      <th>ETA</th>\n",
              "    </tr>\n",
              "    <tr>\n",
              "      <th>ID</th>\n",
              "      <th></th>\n",
              "      <th></th>\n",
              "      <th></th>\n",
              "      <th></th>\n",
              "      <th></th>\n",
              "      <th></th>\n",
              "      <th></th>\n",
              "    </tr>\n",
              "  </thead>\n",
              "  <tbody>\n",
              "    <tr>\n",
              "      <th>000FLWA8</th>\n",
              "      <td>2019-12-04 20:01:50+00:00</td>\n",
              "      <td>3.258</td>\n",
              "      <td>36.777</td>\n",
              "      <td>3.003</td>\n",
              "      <td>36.718</td>\n",
              "      <td>39627</td>\n",
              "      <td>2784</td>\n",
              "    </tr>\n",
              "    <tr>\n",
              "      <th>000RGOAM</th>\n",
              "      <td>2019-12-10 22:37:09+00:00</td>\n",
              "      <td>3.087</td>\n",
              "      <td>36.707</td>\n",
              "      <td>3.081</td>\n",
              "      <td>36.727</td>\n",
              "      <td>3918</td>\n",
              "      <td>576</td>\n",
              "    </tr>\n",
              "    <tr>\n",
              "      <th>001QSGIH</th>\n",
              "      <td>2019-11-23 20:36:10+00:00</td>\n",
              "      <td>3.144</td>\n",
              "      <td>36.739</td>\n",
              "      <td>3.088</td>\n",
              "      <td>36.742</td>\n",
              "      <td>7265</td>\n",
              "      <td>526</td>\n",
              "    </tr>\n",
              "    <tr>\n",
              "      <th>002ACV6R</th>\n",
              "      <td>2019-12-01 05:43:21+00:00</td>\n",
              "      <td>3.239</td>\n",
              "      <td>36.784</td>\n",
              "      <td>3.054</td>\n",
              "      <td>36.763</td>\n",
              "      <td>23350</td>\n",
              "      <td>3130</td>\n",
              "    </tr>\n",
              "    <tr>\n",
              "      <th>0039Y7A8</th>\n",
              "      <td>2019-12-17 20:30:20+00:00</td>\n",
              "      <td>2.912</td>\n",
              "      <td>36.707</td>\n",
              "      <td>3.207</td>\n",
              "      <td>36.698</td>\n",
              "      <td>36613</td>\n",
              "      <td>2138</td>\n",
              "    </tr>\n",
              "  </tbody>\n",
              "</table>\n",
              "</div>"
            ],
            "text/plain": [
              "                         Timestamp  Origin_lat  ...  Trip_distance   ETA\n",
              "ID                                              ...                     \n",
              "000FLWA8 2019-12-04 20:01:50+00:00       3.258  ...          39627  2784\n",
              "000RGOAM 2019-12-10 22:37:09+00:00       3.087  ...           3918   576\n",
              "001QSGIH 2019-11-23 20:36:10+00:00       3.144  ...           7265   526\n",
              "002ACV6R 2019-12-01 05:43:21+00:00       3.239  ...          23350  3130\n",
              "0039Y7A8 2019-12-17 20:30:20+00:00       2.912  ...          36613  2138\n",
              "\n",
              "[5 rows x 7 columns]"
            ]
          },
          "metadata": {
            "tags": []
          },
          "execution_count": 5
        }
      ]
    },
    {
      "cell_type": "code",
      "metadata": {
        "colab": {
          "base_uri": "https://localhost:8080/"
        },
        "id": "Js8c3E1gtr8E",
        "outputId": "464fefd2-5329-4dda-8ce1-20f26021ba92"
      },
      "source": [
        "training.shape"
      ],
      "execution_count": null,
      "outputs": [
        {
          "output_type": "execute_result",
          "data": {
            "text/plain": [
              "(83924, 7)"
            ]
          },
          "metadata": {
            "tags": []
          },
          "execution_count": 69
        }
      ]
    },
    {
      "cell_type": "code",
      "metadata": {
        "colab": {
          "base_uri": "https://localhost:8080/",
          "height": 231
        },
        "id": "DSbISEQLTWpU",
        "outputId": "89cdf067-a228-4772-90ab-fa99a0090e97"
      },
      "source": [
        "lat1 = np.array(training['Origin_lat'])\r\n",
        "lat2 = np.array(training['Destination_lat'])\r\n",
        "lon1 = np.array(training['Origin_lon'])\r\n",
        "lon2 = np.array(training['Destination_lon'])\r\n",
        "\r\n",
        "direct_dist = []\r\n",
        "for j in range(len(lat1)):\r\n",
        "  ds = distance(lat1[j],lat2[j],lon1[j],lon2[j])\r\n",
        "  direct_dist.append(ds)"
      ],
      "execution_count": null,
      "outputs": [
        {
          "output_type": "error",
          "ename": "NameError",
          "evalue": "ignored",
          "traceback": [
            "\u001b[0;31m---------------------------------------------------------------------------\u001b[0m",
            "\u001b[0;31mNameError\u001b[0m                                 Traceback (most recent call last)",
            "\u001b[0;32m<ipython-input-5-b7f2b96ba1fd>\u001b[0m in \u001b[0;36m<module>\u001b[0;34m()\u001b[0m\n\u001b[0;32m----> 1\u001b[0;31m \u001b[0mlat1\u001b[0m \u001b[0;34m=\u001b[0m \u001b[0mnp\u001b[0m\u001b[0;34m.\u001b[0m\u001b[0marray\u001b[0m\u001b[0;34m(\u001b[0m\u001b[0mtraining\u001b[0m\u001b[0;34m[\u001b[0m\u001b[0;34m'Origin_lat'\u001b[0m\u001b[0;34m]\u001b[0m\u001b[0;34m)\u001b[0m\u001b[0;34m\u001b[0m\u001b[0;34m\u001b[0m\u001b[0m\n\u001b[0m\u001b[1;32m      2\u001b[0m \u001b[0mlat2\u001b[0m \u001b[0;34m=\u001b[0m \u001b[0mnp\u001b[0m\u001b[0;34m.\u001b[0m\u001b[0marray\u001b[0m\u001b[0;34m(\u001b[0m\u001b[0mtraining\u001b[0m\u001b[0;34m[\u001b[0m\u001b[0;34m'Destination_lat'\u001b[0m\u001b[0;34m]\u001b[0m\u001b[0;34m)\u001b[0m\u001b[0;34m\u001b[0m\u001b[0;34m\u001b[0m\u001b[0m\n\u001b[1;32m      3\u001b[0m \u001b[0mlon1\u001b[0m \u001b[0;34m=\u001b[0m \u001b[0mnp\u001b[0m\u001b[0;34m.\u001b[0m\u001b[0marray\u001b[0m\u001b[0;34m(\u001b[0m\u001b[0mtraining\u001b[0m\u001b[0;34m[\u001b[0m\u001b[0;34m'Origin_lon'\u001b[0m\u001b[0;34m]\u001b[0m\u001b[0;34m)\u001b[0m\u001b[0;34m\u001b[0m\u001b[0;34m\u001b[0m\u001b[0m\n\u001b[1;32m      4\u001b[0m \u001b[0mlon2\u001b[0m \u001b[0;34m=\u001b[0m \u001b[0mnp\u001b[0m\u001b[0;34m.\u001b[0m\u001b[0marray\u001b[0m\u001b[0;34m(\u001b[0m\u001b[0mtraining\u001b[0m\u001b[0;34m[\u001b[0m\u001b[0;34m'Destination_lon'\u001b[0m\u001b[0;34m]\u001b[0m\u001b[0;34m)\u001b[0m\u001b[0;34m\u001b[0m\u001b[0;34m\u001b[0m\u001b[0m\n\u001b[1;32m      5\u001b[0m \u001b[0;34m\u001b[0m\u001b[0m\n",
            "\u001b[0;31mNameError\u001b[0m: name 'training' is not defined"
          ]
        }
      ]
    },
    {
      "cell_type": "code",
      "metadata": {
        "id": "vmV-neu7UH-_"
      },
      "source": [
        ""
      ],
      "execution_count": null,
      "outputs": []
    },
    {
      "cell_type": "code",
      "metadata": {
        "colab": {
          "base_uri": "https://localhost:8080/",
          "height": 235
        },
        "id": "BpTjkQm2FJ1j",
        "outputId": "f4c83b7e-4ac9-424b-d82d-f4faac5fd8d8"
      },
      "source": [
        "# sample set \n",
        "sample_set = pd.read_csv('SampleSubmission (6).csv').set_index('ID')\n",
        "sample_set.head()"
      ],
      "execution_count": null,
      "outputs": [
        {
          "output_type": "execute_result",
          "data": {
            "text/html": [
              "<div>\n",
              "<style scoped>\n",
              "    .dataframe tbody tr th:only-of-type {\n",
              "        vertical-align: middle;\n",
              "    }\n",
              "\n",
              "    .dataframe tbody tr th {\n",
              "        vertical-align: top;\n",
              "    }\n",
              "\n",
              "    .dataframe thead th {\n",
              "        text-align: right;\n",
              "    }\n",
              "</style>\n",
              "<table border=\"1\" class=\"dataframe\">\n",
              "  <thead>\n",
              "    <tr style=\"text-align: right;\">\n",
              "      <th></th>\n",
              "      <th>ETA</th>\n",
              "    </tr>\n",
              "    <tr>\n",
              "      <th>ID</th>\n",
              "      <th></th>\n",
              "    </tr>\n",
              "  </thead>\n",
              "  <tbody>\n",
              "    <tr>\n",
              "      <th>000V4BQX</th>\n",
              "      <td>0</td>\n",
              "    </tr>\n",
              "    <tr>\n",
              "      <th>003WBC5J</th>\n",
              "      <td>0</td>\n",
              "    </tr>\n",
              "    <tr>\n",
              "      <th>004O4X3A</th>\n",
              "      <td>0</td>\n",
              "    </tr>\n",
              "    <tr>\n",
              "      <th>006CEI5B</th>\n",
              "      <td>0</td>\n",
              "    </tr>\n",
              "    <tr>\n",
              "      <th>009G0M2T</th>\n",
              "      <td>0</td>\n",
              "    </tr>\n",
              "  </tbody>\n",
              "</table>\n",
              "</div>"
            ],
            "text/plain": [
              "          ETA\n",
              "ID           \n",
              "000V4BQX    0\n",
              "003WBC5J    0\n",
              "004O4X3A    0\n",
              "006CEI5B    0\n",
              "009G0M2T    0"
            ]
          },
          "metadata": {
            "tags": []
          },
          "execution_count": 73
        }
      ]
    },
    {
      "cell_type": "code",
      "metadata": {
        "colab": {
          "base_uri": "https://localhost:8080/",
          "height": 450
        },
        "id": "zLRB9wwxFJ1k",
        "outputId": "f4c3b18b-0b30-4eb6-fa10-7aba0141d698"
      },
      "source": [
        "# testing data\n",
        "testing = pd.read_csv('Test (2).csv').set_index('ID')\n",
        "testing['Timestamp'] = pd.to_datetime(testing['Timestamp'])\n",
        "testing"
      ],
      "execution_count": 3,
      "outputs": [
        {
          "output_type": "execute_result",
          "data": {
            "text/html": [
              "<div>\n",
              "<style scoped>\n",
              "    .dataframe tbody tr th:only-of-type {\n",
              "        vertical-align: middle;\n",
              "    }\n",
              "\n",
              "    .dataframe tbody tr th {\n",
              "        vertical-align: top;\n",
              "    }\n",
              "\n",
              "    .dataframe thead th {\n",
              "        text-align: right;\n",
              "    }\n",
              "</style>\n",
              "<table border=\"1\" class=\"dataframe\">\n",
              "  <thead>\n",
              "    <tr style=\"text-align: right;\">\n",
              "      <th></th>\n",
              "      <th>Timestamp</th>\n",
              "      <th>Origin_lat</th>\n",
              "      <th>Origin_lon</th>\n",
              "      <th>Destination_lat</th>\n",
              "      <th>Destination_lon</th>\n",
              "      <th>Trip_distance</th>\n",
              "    </tr>\n",
              "    <tr>\n",
              "      <th>ID</th>\n",
              "      <th></th>\n",
              "      <th></th>\n",
              "      <th></th>\n",
              "      <th></th>\n",
              "      <th></th>\n",
              "      <th></th>\n",
              "    </tr>\n",
              "  </thead>\n",
              "  <tbody>\n",
              "    <tr>\n",
              "      <th>000V4BQX</th>\n",
              "      <td>2019-12-21 05:52:37+00:00</td>\n",
              "      <td>2.981</td>\n",
              "      <td>36.688</td>\n",
              "      <td>2.978</td>\n",
              "      <td>36.754</td>\n",
              "      <td>17549</td>\n",
              "    </tr>\n",
              "    <tr>\n",
              "      <th>003WBC5J</th>\n",
              "      <td>2019-12-25 21:38:53+00:00</td>\n",
              "      <td>3.032</td>\n",
              "      <td>36.769</td>\n",
              "      <td>3.074</td>\n",
              "      <td>36.751</td>\n",
              "      <td>7532</td>\n",
              "    </tr>\n",
              "    <tr>\n",
              "      <th>004O4X3A</th>\n",
              "      <td>2019-12-29 21:30:29+00:00</td>\n",
              "      <td>3.035</td>\n",
              "      <td>36.711</td>\n",
              "      <td>3.010</td>\n",
              "      <td>36.758</td>\n",
              "      <td>10194</td>\n",
              "    </tr>\n",
              "    <tr>\n",
              "      <th>006CEI5B</th>\n",
              "      <td>2019-12-31 22:51:57+00:00</td>\n",
              "      <td>2.902</td>\n",
              "      <td>36.738</td>\n",
              "      <td>3.208</td>\n",
              "      <td>36.698</td>\n",
              "      <td>32768</td>\n",
              "    </tr>\n",
              "    <tr>\n",
              "      <th>009G0M2T</th>\n",
              "      <td>2019-12-28 21:47:22+00:00</td>\n",
              "      <td>2.860</td>\n",
              "      <td>36.692</td>\n",
              "      <td>2.828</td>\n",
              "      <td>36.696</td>\n",
              "      <td>4513</td>\n",
              "    </tr>\n",
              "    <tr>\n",
              "      <th>...</th>\n",
              "      <td>...</td>\n",
              "      <td>...</td>\n",
              "      <td>...</td>\n",
              "      <td>...</td>\n",
              "      <td>...</td>\n",
              "      <td>...</td>\n",
              "    </tr>\n",
              "    <tr>\n",
              "      <th>ZZXSJW3Q</th>\n",
              "      <td>2019-12-21 04:10:59+00:00</td>\n",
              "      <td>2.947</td>\n",
              "      <td>36.748</td>\n",
              "      <td>2.949</td>\n",
              "      <td>36.747</td>\n",
              "      <td>3413</td>\n",
              "    </tr>\n",
              "    <tr>\n",
              "      <th>ZZYPNYYY</th>\n",
              "      <td>2019-12-30 20:31:22+00:00</td>\n",
              "      <td>3.037</td>\n",
              "      <td>36.742</td>\n",
              "      <td>2.924</td>\n",
              "      <td>36.762</td>\n",
              "      <td>14341</td>\n",
              "    </tr>\n",
              "    <tr>\n",
              "      <th>ZZYVPKXY</th>\n",
              "      <td>2019-12-27 20:21:38+00:00</td>\n",
              "      <td>2.993</td>\n",
              "      <td>36.723</td>\n",
              "      <td>2.983</td>\n",
              "      <td>36.747</td>\n",
              "      <td>4465</td>\n",
              "    </tr>\n",
              "    <tr>\n",
              "      <th>ZZZXGRIO</th>\n",
              "      <td>2019-12-29 22:00:31+00:00</td>\n",
              "      <td>2.954</td>\n",
              "      <td>36.743</td>\n",
              "      <td>3.057</td>\n",
              "      <td>36.760</td>\n",
              "      <td>13105</td>\n",
              "    </tr>\n",
              "    <tr>\n",
              "      <th>ZZZYTWJA</th>\n",
              "      <td>2019-12-20 22:44:19+00:00</td>\n",
              "      <td>2.982</td>\n",
              "      <td>36.760</td>\n",
              "      <td>3.014</td>\n",
              "      <td>36.761</td>\n",
              "      <td>5543</td>\n",
              "    </tr>\n",
              "  </tbody>\n",
              "</table>\n",
              "<p>35625 rows × 6 columns</p>\n",
              "</div>"
            ],
            "text/plain": [
              "                         Timestamp  Origin_lat  ...  Destination_lon  Trip_distance\n",
              "ID                                              ...                                \n",
              "000V4BQX 2019-12-21 05:52:37+00:00       2.981  ...           36.754          17549\n",
              "003WBC5J 2019-12-25 21:38:53+00:00       3.032  ...           36.751           7532\n",
              "004O4X3A 2019-12-29 21:30:29+00:00       3.035  ...           36.758          10194\n",
              "006CEI5B 2019-12-31 22:51:57+00:00       2.902  ...           36.698          32768\n",
              "009G0M2T 2019-12-28 21:47:22+00:00       2.860  ...           36.696           4513\n",
              "...                            ...         ...  ...              ...            ...\n",
              "ZZXSJW3Q 2019-12-21 04:10:59+00:00       2.947  ...           36.747           3413\n",
              "ZZYPNYYY 2019-12-30 20:31:22+00:00       3.037  ...           36.762          14341\n",
              "ZZYVPKXY 2019-12-27 20:21:38+00:00       2.993  ...           36.747           4465\n",
              "ZZZXGRIO 2019-12-29 22:00:31+00:00       2.954  ...           36.760          13105\n",
              "ZZZYTWJA 2019-12-20 22:44:19+00:00       2.982  ...           36.761           5543\n",
              "\n",
              "[35625 rows x 6 columns]"
            ]
          },
          "metadata": {
            "tags": []
          },
          "execution_count": 3
        }
      ]
    },
    {
      "cell_type": "code",
      "metadata": {
        "colab": {
          "base_uri": "https://localhost:8080/",
          "height": 309
        },
        "id": "h5BW7Bh2FJ1l",
        "outputId": "64457fe4-8bdb-4c93-e887-62435e7b98f3"
      },
      "source": [
        "# weather data\n",
        "weather_df = pd.read_csv('Weather.csv')\n",
        "weather_df.head()"
      ],
      "execution_count": null,
      "outputs": [
        {
          "output_type": "execute_result",
          "data": {
            "text/html": [
              "<div>\n",
              "<style scoped>\n",
              "    .dataframe tbody tr th:only-of-type {\n",
              "        vertical-align: middle;\n",
              "    }\n",
              "\n",
              "    .dataframe tbody tr th {\n",
              "        vertical-align: top;\n",
              "    }\n",
              "\n",
              "    .dataframe thead th {\n",
              "        text-align: right;\n",
              "    }\n",
              "</style>\n",
              "<table border=\"1\" class=\"dataframe\">\n",
              "  <thead>\n",
              "    <tr style=\"text-align: right;\">\n",
              "      <th></th>\n",
              "      <th>date</th>\n",
              "      <th>dewpoint_2m_temperature</th>\n",
              "      <th>maximum_2m_air_temperature</th>\n",
              "      <th>mean_2m_air_temperature</th>\n",
              "      <th>mean_sea_level_pressure</th>\n",
              "      <th>minimum_2m_air_temperature</th>\n",
              "      <th>surface_pressure</th>\n",
              "      <th>total_precipitation</th>\n",
              "      <th>u_component_of_wind_10m</th>\n",
              "      <th>v_component_of_wind_10m</th>\n",
              "    </tr>\n",
              "  </thead>\n",
              "  <tbody>\n",
              "    <tr>\n",
              "      <th>0</th>\n",
              "      <td>2019-11-01</td>\n",
              "      <td>290.630524</td>\n",
              "      <td>296.434662</td>\n",
              "      <td>294.125061</td>\n",
              "      <td>101853.617188</td>\n",
              "      <td>292.503998</td>\n",
              "      <td>100806.351562</td>\n",
              "      <td>0.004297</td>\n",
              "      <td>3.561323</td>\n",
              "      <td>0.941695</td>\n",
              "    </tr>\n",
              "    <tr>\n",
              "      <th>1</th>\n",
              "      <td>2019-11-02</td>\n",
              "      <td>289.135284</td>\n",
              "      <td>298.432404</td>\n",
              "      <td>295.551666</td>\n",
              "      <td>101225.164062</td>\n",
              "      <td>293.337921</td>\n",
              "      <td>100187.250000</td>\n",
              "      <td>0.001767</td>\n",
              "      <td>5.318593</td>\n",
              "      <td>3.258237</td>\n",
              "    </tr>\n",
              "    <tr>\n",
              "      <th>2</th>\n",
              "      <td>2019-11-03</td>\n",
              "      <td>287.667694</td>\n",
              "      <td>296.612122</td>\n",
              "      <td>295.182831</td>\n",
              "      <td>100806.617188</td>\n",
              "      <td>293.674316</td>\n",
              "      <td>99771.414062</td>\n",
              "      <td>0.000797</td>\n",
              "      <td>8.447649</td>\n",
              "      <td>3.172982</td>\n",
              "    </tr>\n",
              "    <tr>\n",
              "      <th>3</th>\n",
              "      <td>2019-11-04</td>\n",
              "      <td>287.634644</td>\n",
              "      <td>297.173737</td>\n",
              "      <td>294.368134</td>\n",
              "      <td>101240.929688</td>\n",
              "      <td>292.376221</td>\n",
              "      <td>100200.843750</td>\n",
              "      <td>0.000393</td>\n",
              "      <td>5.991428</td>\n",
              "      <td>2.236700</td>\n",
              "    </tr>\n",
              "    <tr>\n",
              "      <th>4</th>\n",
              "      <td>2019-11-05</td>\n",
              "      <td>286.413788</td>\n",
              "      <td>294.284851</td>\n",
              "      <td>292.496979</td>\n",
              "      <td>101131.750000</td>\n",
              "      <td>289.143066</td>\n",
              "      <td>100088.500000</td>\n",
              "      <td>0.004658</td>\n",
              "      <td>6.962730</td>\n",
              "      <td>2.655364</td>\n",
              "    </tr>\n",
              "  </tbody>\n",
              "</table>\n",
              "</div>"
            ],
            "text/plain": [
              "         date  ...  v_component_of_wind_10m\n",
              "0  2019-11-01  ...                 0.941695\n",
              "1  2019-11-02  ...                 3.258237\n",
              "2  2019-11-03  ...                 3.172982\n",
              "3  2019-11-04  ...                 2.236700\n",
              "4  2019-11-05  ...                 2.655364\n",
              "\n",
              "[5 rows x 10 columns]"
            ]
          },
          "metadata": {
            "tags": []
          },
          "execution_count": 72
        }
      ]
    },
    {
      "cell_type": "code",
      "metadata": {
        "id": "vR1jgKpeUcG5"
      },
      "source": [
        "training = training.sample(frac=1)"
      ],
      "execution_count": null,
      "outputs": []
    },
    {
      "cell_type": "markdown",
      "metadata": {
        "id": "Pz4Ov_J4FJ1m"
      },
      "source": [
        "# Make train and OOT set"
      ]
    },
    {
      "cell_type": "code",
      "metadata": {
        "colab": {
          "base_uri": "https://localhost:8080/"
        },
        "id": "aUe9JN8fFJ1n",
        "outputId": "6cf2d7dc-b8a0-422f-e651-58fba29d431a"
      },
      "source": [
        "# make sure sorted by date\n",
        "training = training.sort_values('Timestamp')\n",
        "train_df = training.iloc[:70000]\n",
        "oot_df = training.iloc[70000:]\n",
        "oot_df.shape,train_df.shape"
      ],
      "execution_count": null,
      "outputs": [
        {
          "output_type": "execute_result",
          "data": {
            "text/plain": [
              "((13924, 7), (70000, 7))"
            ]
          },
          "metadata": {
            "tags": []
          },
          "execution_count": 74
        }
      ]
    },
    {
      "cell_type": "markdown",
      "metadata": {
        "id": "LIXjCdvKFJ1n"
      },
      "source": [
        "# AVG Speed Model"
      ]
    },
    {
      "cell_type": "code",
      "metadata": {
        "colab": {
          "base_uri": "https://localhost:8080/"
        },
        "id": "JUx0WoSuFJ1o",
        "outputId": "83be555b-e2f8-463b-ad92-6ecae4368116"
      },
      "source": [
        "# baseline model\n",
        "split = model_selection.TimeSeriesSplit(n_splits=5)\n",
        "result= model_selection.cross_validate(AvgSpeed(),train_df, train_df['ETA'],cv=split,\n",
        "                               scoring='neg_root_mean_squared_error')\n",
        "result, -np.mean(result['test_score']), np.std(result['test_score'])"
      ],
      "execution_count": null,
      "outputs": [
        {
          "output_type": "execute_result",
          "data": {
            "text/plain": [
              "({'fit_time': array([0.035748  , 0.0034349 , 0.00329566, 0.00370669, 0.00488329]),\n",
              "  'score_time': array([0.00306201, 0.00146937, 0.00132155, 0.00131321, 0.00144005]),\n",
              "  'test_score': array([-573.62735986, -587.88913103, -610.46965647, -624.62302806,\n",
              "         -592.96717577])},\n",
              " 597.9152702376128,\n",
              " 17.80913607008961)"
            ]
          },
          "metadata": {
            "tags": []
          },
          "execution_count": 9
        }
      ]
    },
    {
      "cell_type": "code",
      "metadata": {
        "colab": {
          "base_uri": "https://localhost:8080/"
        },
        "id": "QwlbvCMCFJ1o",
        "outputId": "cd8d34a1-7b96-455e-8047-cb6344cc435d"
      },
      "source": [
        "# check score on Dev set\n",
        "reg = AvgSpeed()\n",
        "reg.fit(train_df, train_df.ETA)\n",
        "np.sqrt(metrics.mean_squared_error(oot_df.ETA, reg.predict(oot_df)))"
      ],
      "execution_count": null,
      "outputs": [
        {
          "output_type": "execute_result",
          "data": {
            "text/plain": [
              "626.3906189303457"
            ]
          },
          "metadata": {
            "tags": []
          },
          "execution_count": 10
        }
      ]
    },
    {
      "cell_type": "markdown",
      "metadata": {
        "id": "9MOwHDpEFJ1p"
      },
      "source": [
        "## Make Submission"
      ]
    },
    {
      "cell_type": "code",
      "metadata": {
        "colab": {
          "base_uri": "https://localhost:8080/"
        },
        "id": "dZBUMM1gFJ1p",
        "outputId": "6493cadd-1171-4f19-988a-1d03cb18bdd9"
      },
      "source": [
        "# fit model on all data\n",
        "reg = AvgSpeed()\n",
        "reg.fit(training, training.ETA)\n",
        "reg.avg # time / distance"
      ],
      "execution_count": null,
      "outputs": [
        {
          "output_type": "execute_result",
          "data": {
            "text/plain": [
              "0.10475614041193526"
            ]
          },
          "metadata": {
            "tags": []
          },
          "execution_count": 11
        }
      ]
    },
    {
      "cell_type": "code",
      "metadata": {
        "colab": {
          "base_uri": "https://localhost:8080/",
          "height": 235
        },
        "id": "jpK5NmbsFJ1q",
        "outputId": "4fc17305-8a72-41a7-c790-b8e7b388d6c3"
      },
      "source": [
        "# run test data through\n",
        "submission = testing.copy()\n",
        "submission['ETA'] = reg.predict(testing)\n",
        "submission.head()"
      ],
      "execution_count": null,
      "outputs": [
        {
          "output_type": "execute_result",
          "data": {
            "text/html": [
              "<div>\n",
              "<style scoped>\n",
              "    .dataframe tbody tr th:only-of-type {\n",
              "        vertical-align: middle;\n",
              "    }\n",
              "\n",
              "    .dataframe tbody tr th {\n",
              "        vertical-align: top;\n",
              "    }\n",
              "\n",
              "    .dataframe thead th {\n",
              "        text-align: right;\n",
              "    }\n",
              "</style>\n",
              "<table border=\"1\" class=\"dataframe\">\n",
              "  <thead>\n",
              "    <tr style=\"text-align: right;\">\n",
              "      <th></th>\n",
              "      <th>Timestamp</th>\n",
              "      <th>Origin_lat</th>\n",
              "      <th>Origin_lon</th>\n",
              "      <th>Destination_lat</th>\n",
              "      <th>Destination_lon</th>\n",
              "      <th>Trip_distance</th>\n",
              "      <th>ETA</th>\n",
              "    </tr>\n",
              "    <tr>\n",
              "      <th>ID</th>\n",
              "      <th></th>\n",
              "      <th></th>\n",
              "      <th></th>\n",
              "      <th></th>\n",
              "      <th></th>\n",
              "      <th></th>\n",
              "      <th></th>\n",
              "    </tr>\n",
              "  </thead>\n",
              "  <tbody>\n",
              "    <tr>\n",
              "      <th>000V4BQX</th>\n",
              "      <td>2019-12-21 05:52:37+00:00</td>\n",
              "      <td>2.981</td>\n",
              "      <td>36.688</td>\n",
              "      <td>2.978</td>\n",
              "      <td>36.754</td>\n",
              "      <td>17549</td>\n",
              "      <td>1838.365508</td>\n",
              "    </tr>\n",
              "    <tr>\n",
              "      <th>003WBC5J</th>\n",
              "      <td>2019-12-25 21:38:53+00:00</td>\n",
              "      <td>3.032</td>\n",
              "      <td>36.769</td>\n",
              "      <td>3.074</td>\n",
              "      <td>36.751</td>\n",
              "      <td>7532</td>\n",
              "      <td>789.023250</td>\n",
              "    </tr>\n",
              "    <tr>\n",
              "      <th>004O4X3A</th>\n",
              "      <td>2019-12-29 21:30:29+00:00</td>\n",
              "      <td>3.035</td>\n",
              "      <td>36.711</td>\n",
              "      <td>3.010</td>\n",
              "      <td>36.758</td>\n",
              "      <td>10194</td>\n",
              "      <td>1067.884095</td>\n",
              "    </tr>\n",
              "    <tr>\n",
              "      <th>006CEI5B</th>\n",
              "      <td>2019-12-31 22:51:57+00:00</td>\n",
              "      <td>2.902</td>\n",
              "      <td>36.738</td>\n",
              "      <td>3.208</td>\n",
              "      <td>36.698</td>\n",
              "      <td>32768</td>\n",
              "      <td>3432.649209</td>\n",
              "    </tr>\n",
              "    <tr>\n",
              "      <th>009G0M2T</th>\n",
              "      <td>2019-12-28 21:47:22+00:00</td>\n",
              "      <td>2.860</td>\n",
              "      <td>36.692</td>\n",
              "      <td>2.828</td>\n",
              "      <td>36.696</td>\n",
              "      <td>4513</td>\n",
              "      <td>472.764462</td>\n",
              "    </tr>\n",
              "  </tbody>\n",
              "</table>\n",
              "</div>"
            ],
            "text/plain": [
              "                         Timestamp  Origin_lat  ...  Trip_distance          ETA\n",
              "ID                                              ...                            \n",
              "000V4BQX 2019-12-21 05:52:37+00:00       2.981  ...          17549  1838.365508\n",
              "003WBC5J 2019-12-25 21:38:53+00:00       3.032  ...           7532   789.023250\n",
              "004O4X3A 2019-12-29 21:30:29+00:00       3.035  ...          10194  1067.884095\n",
              "006CEI5B 2019-12-31 22:51:57+00:00       2.902  ...          32768  3432.649209\n",
              "009G0M2T 2019-12-28 21:47:22+00:00       2.860  ...           4513   472.764462\n",
              "\n",
              "[5 rows x 7 columns]"
            ]
          },
          "metadata": {
            "tags": []
          },
          "execution_count": 12
        }
      ]
    },
    {
      "cell_type": "code",
      "metadata": {
        "id": "Rt5QCxwFFJ1q"
      },
      "source": [
        "# save\n",
        "submission[['ETA']].to_csv('baseline_submit_base.csv')"
      ],
      "execution_count": null,
      "outputs": []
    },
    {
      "cell_type": "markdown",
      "metadata": {
        "id": "_MYoxO5EFJ1q"
      },
      "source": [
        "# Do clustering on coordinates"
      ]
    },
    {
      "cell_type": "code",
      "metadata": {
        "id": "FWcodtkAFJ1r"
      },
      "source": [
        "from xgboost import XGBRegressor\n",
        "from sklearn.neighbors import KNeighborsRegressor\n",
        "from sklearn.ensemble import GradientBoostingRegressor\n",
        "from sklearn.preprocessing import MinMaxScaler\n",
        "preprocessor = ColumnTransformer(\n",
        "        transformers=[\n",
        "            ('Coordninates-depart', cluster.KMeans(n_clusters=200),['Origin_lat','Origin_lon']),\n",
        "              ('Coordninates-arrive', cluster.KMeans(n_clusters=200),[\n",
        "                                                           'Destination_lat','Destination_lon']),\n",
        "            ('Distance', StandardScaler(), ['Trip_distance']),\n",
        "        \n",
        "])\n",
        "    # create model\n",
        "pipeline = pipeline.Pipeline(steps=[\n",
        "                          ('preprocessor', preprocessor),\n",
        "    \n",
        "                          ('Regression', RandomForestRegressor())])   "
      ],
      "execution_count": null,
      "outputs": []
    },
    {
      "cell_type": "code",
      "metadata": {
        "id": "2wUx7dlvTi6U"
      },
      "source": [
        ""
      ],
      "execution_count": null,
      "outputs": []
    },
    {
      "cell_type": "code",
      "metadata": {
        "id": "DwXT_jcWTjjI"
      },
      "source": [
        "training = training.sample(frac=1)"
      ],
      "execution_count": null,
      "outputs": []
    },
    {
      "cell_type": "code",
      "metadata": {
        "colab": {
          "background_save": true,
          "base_uri": "https://localhost:8080/"
        },
        "id": "TpMILLBBCUBj",
        "outputId": "24eef8d4-ab7a-4285-d39e-52dccb3440e2"
      },
      "source": [
        "preprocessor.fit_transform(training.drop(columns=['Timestamp','ETA']))\r\n"
      ],
      "execution_count": null,
      "outputs": [
        {
          "output_type": "execute_result",
          "data": {
            "text/plain": [
              "array([[ 0.16971891,  0.1387157 ,  0.03959022, ...,  0.03156608,\n",
              "         0.07264158, -1.0368047 ],\n",
              "       [ 0.38981514,  0.2095373 ,  0.25154577, ...,  0.23927702,\n",
              "         0.2940072 , -0.26018175],\n",
              "       [ 0.29918001,  0.09169834,  0.15599014, ...,  0.17076265,\n",
              "         0.18913668,  1.23519391],\n",
              "       ...,\n",
              "       [ 0.26690517,  0.21085413,  0.11529514, ...,  0.11827917,\n",
              "         0.20286513, -0.09635948],\n",
              "       [ 0.25351574,  0.38065651,  0.27528311, ...,  0.25032519,\n",
              "         0.27944712,  3.8892652 ],\n",
              "       [ 0.14608012,  0.14686096,  0.08532154, ...,  0.08700882,\n",
              "         0.04603094, -0.47681868]])"
            ]
          },
          "metadata": {
            "tags": []
          },
          "execution_count": 0
        }
      ]
    },
    {
      "cell_type": "code",
      "metadata": {
        "id": "qGqQ2aF1DtXk"
      },
      "source": [
        "d_train = preprocessor.transform(training.drop(columns=['Timestamp','ETA']))"
      ],
      "execution_count": null,
      "outputs": []
    },
    {
      "cell_type": "code",
      "metadata": {
        "id": "zXAN_FfuD0Sk"
      },
      "source": [
        "d_test = preprocessor.transform(testing)"
      ],
      "execution_count": null,
      "outputs": []
    },
    {
      "cell_type": "code",
      "metadata": {
        "colab": {
          "base_uri": "https://localhost:8080/"
        },
        "id": "URZ3v4hFfB3E",
        "outputId": "2eeed44a-c4d3-4917-f147-b9b0ba6cd231"
      },
      "source": [
        "prepro_y = MinMaxScaler()\r\n",
        "prepro_y.fit(np.array(training.ETA).reshape(-1,1))\r\n",
        "y = prepro_y.transform(np.array(training.ETA).reshape(-1,1))\r\n",
        "y"
      ],
      "execution_count": null,
      "outputs": [
        {
          "output_type": "execute_result",
          "data": {
            "text/plain": [
              "array([[0.21118961],\n",
              "       [0.15161352],\n",
              "       [0.26274585],\n",
              "       ...,\n",
              "       [0.15848768],\n",
              "       [0.26713767],\n",
              "       [0.23467634]])"
            ]
          },
          "metadata": {
            "tags": []
          },
          "execution_count": 107
        }
      ]
    },
    {
      "cell_type": "code",
      "metadata": {
        "id": "rJONjK2kD8Oc"
      },
      "source": [
        "d_test = preprocessor.transform(testing)"
      ],
      "execution_count": null,
      "outputs": []
    },
    {
      "cell_type": "code",
      "metadata": {
        "colab": {
          "base_uri": "https://localhost:8080/"
        },
        "id": "Rfhy0BVYUIfo",
        "outputId": "e0fa7388-5dea-4811-8cec-ebb80ef52989"
      },
      "source": [
        "forest_model = RandomForestRegressor()\r\n",
        "forest_model.fit(d_train , y)"
      ],
      "execution_count": null,
      "outputs": [
        {
          "output_type": "stream",
          "text": [
            "/usr/local/lib/python3.6/dist-packages/ipykernel_launcher.py:2: DataConversionWarning: A column-vector y was passed when a 1d array was expected. Please change the shape of y to (n_samples,), for example using ravel().\n",
            "  \n"
          ],
          "name": "stderr"
        }
      ]
    },
    {
      "cell_type": "code",
      "metadata": {
        "colab": {
          "base_uri": "https://localhost:8080/"
        },
        "id": "NnvCteiZUIke",
        "outputId": "45d48831-f5e4-4992-a737-6c7dc5c67c80"
      },
      "source": [
        "for j in range(0,80000,10000):\r\n",
        "  X = d_train[j:j+10000]\r\n",
        "  y =  training.ETA[j:j+10000]\r\n",
        "\r\n",
        "  forest_model.fit(X,y)\r\n",
        "  forest_model.n_estimators += 100\r\n",
        "  print(np.sqrt(metrics.mean_squared_error(oot_df.ETA, forest_model.predict(d_train[70000:]))))\r\n",
        "\r\n"
      ],
      "execution_count": null,
      "outputs": [
        {
          "output_type": "stream",
          "text": [
            "232.65038852404592\n",
            "223.03812348728613\n",
            "219.64375799334945\n",
            "217.4335096352256\n",
            "217.09047686539898\n",
            "215.69386315761744\n",
            "213.97300127169868\n",
            "200.3266006414932\n"
          ],
          "name": "stdout"
        }
      ]
    },
    {
      "cell_type": "code",
      "metadata": {
        "colab": {
          "base_uri": "https://localhost:8080/"
        },
        "id": "Lw4qSjQwFJ1r",
        "outputId": "5802c9d2-21d1-48c4-dcae-d38e0a5d961c"
      },
      "source": [
        "split = model_selection.TimeSeriesSplit(n_splits=20)\n",
        "result= model_selection.cross_validate(pipeline,train_df.drop(columns=['ETA']), train_df['ETA'],cv=split,\n",
        "                               scoring='neg_root_mean_squared_error')\n",
        "result, -np.mean(result['test_score']), np.std(result['test_score'])"
      ],
      "execution_count": null,
      "outputs": [
        {
          "output_type": "execute_result",
          "data": {
            "text/plain": [
              "({'fit_time': array([ 1.96954727,  2.56212234,  3.16104078,  4.00381875,  4.91647792,\n",
              "          5.84028339,  6.47989941,  7.86856914,  8.87671208,  9.32742667,\n",
              "         10.57050085, 10.59952807, 12.22195888, 14.2204237 , 16.50415683,\n",
              "         16.71502852, 16.78873849, 20.08929944, 21.70467567, 22.34933376]),\n",
              "  'score_time': array([0.20513368, 0.25644565, 0.30045629, 0.32934189, 0.38876724,\n",
              "         0.39366817, 0.40257025, 0.43843651, 0.42500973, 0.44950747,\n",
              "         0.45359874, 0.49203897, 0.50861835, 0.47976851, 0.48998427,\n",
              "         0.54773903, 0.53048944, 0.55715632, 0.5255456 , 0.56212568]),\n",
              "  'test_score': array([-320.73313431, -252.38656324, -209.25529236, -189.52446208,\n",
              "         -251.0086018 , -256.93604721, -222.55438091, -193.06151848,\n",
              "         -183.04017131, -194.56721594, -235.35828086, -202.02487209,\n",
              "         -176.79287082, -187.03032544, -202.41832104, -202.09121428,\n",
              "         -217.34373576, -206.34423727, -200.71503986, -259.99529438])},\n",
              " 218.1590789717261,\n",
              " 34.31551733536918)"
            ]
          },
          "metadata": {
            "tags": []
          },
          "execution_count": 48
        }
      ]
    },
    {
      "cell_type": "code",
      "metadata": {
        "colab": {
          "base_uri": "https://localhost:8080/"
        },
        "id": "0cSwCAQSFJ1s",
        "outputId": "ea880565-cb36-4421-8109-9cab49de78b0"
      },
      "source": [
        "# test on DEV set\n",
        "pipeline.fit(training.drop(columns=['ETA']), training.ETA)\n",
        "np.sqrt(metrics.mean_squared_error(oot_df.ETA, pipeline.predict(oot_df)))"
      ],
      "execution_count": null,
      "outputs": [
        {
          "output_type": "stream",
          "text": [
            "/usr/local/lib/python3.6/dist-packages/sklearn/compose/_column_transformer.py:430: FutureWarning: Given feature/column names or counts do not match the ones for the data given during fit. This will fail from v0.24.\n",
            "  FutureWarning)\n"
          ],
          "name": "stderr"
        },
        {
          "output_type": "execute_result",
          "data": {
            "text/plain": [
              "154.40718082594822"
            ]
          },
          "metadata": {
            "tags": []
          },
          "execution_count": 49
        }
      ]
    },
    {
      "cell_type": "code",
      "metadata": {
        "colab": {
          "base_uri": "https://localhost:8080/",
          "height": 235
        },
        "id": "8I7eZ0oVFJ1s",
        "outputId": "0b6d69e0-258b-4969-bba8-e2478a501049"
      },
      "source": [
        "# make submission\n",
        "# run test data through\n",
        "submission = testing.copy()\n",
        "submission['ETA'] = forest_model.predict(d_test)\n",
        "submission.head()"
      ],
      "execution_count": null,
      "outputs": [
        {
          "output_type": "execute_result",
          "data": {
            "text/html": [
              "<div>\n",
              "<style scoped>\n",
              "    .dataframe tbody tr th:only-of-type {\n",
              "        vertical-align: middle;\n",
              "    }\n",
              "\n",
              "    .dataframe tbody tr th {\n",
              "        vertical-align: top;\n",
              "    }\n",
              "\n",
              "    .dataframe thead th {\n",
              "        text-align: right;\n",
              "    }\n",
              "</style>\n",
              "<table border=\"1\" class=\"dataframe\">\n",
              "  <thead>\n",
              "    <tr style=\"text-align: right;\">\n",
              "      <th></th>\n",
              "      <th>Timestamp</th>\n",
              "      <th>Origin_lat</th>\n",
              "      <th>Origin_lon</th>\n",
              "      <th>Destination_lat</th>\n",
              "      <th>Destination_lon</th>\n",
              "      <th>Trip_distance</th>\n",
              "      <th>ETA</th>\n",
              "    </tr>\n",
              "    <tr>\n",
              "      <th>ID</th>\n",
              "      <th></th>\n",
              "      <th></th>\n",
              "      <th></th>\n",
              "      <th></th>\n",
              "      <th></th>\n",
              "      <th></th>\n",
              "      <th></th>\n",
              "    </tr>\n",
              "  </thead>\n",
              "  <tbody>\n",
              "    <tr>\n",
              "      <th>000V4BQX</th>\n",
              "      <td>2019-12-21 05:52:37+00:00</td>\n",
              "      <td>2.981</td>\n",
              "      <td>36.688</td>\n",
              "      <td>2.978</td>\n",
              "      <td>36.754</td>\n",
              "      <td>17549</td>\n",
              "      <td>1440.430751</td>\n",
              "    </tr>\n",
              "    <tr>\n",
              "      <th>003WBC5J</th>\n",
              "      <td>2019-12-25 21:38:53+00:00</td>\n",
              "      <td>3.032</td>\n",
              "      <td>36.769</td>\n",
              "      <td>3.074</td>\n",
              "      <td>36.751</td>\n",
              "      <td>7532</td>\n",
              "      <td>938.129423</td>\n",
              "    </tr>\n",
              "    <tr>\n",
              "      <th>004O4X3A</th>\n",
              "      <td>2019-12-29 21:30:29+00:00</td>\n",
              "      <td>3.035</td>\n",
              "      <td>36.711</td>\n",
              "      <td>3.010</td>\n",
              "      <td>36.758</td>\n",
              "      <td>10194</td>\n",
              "      <td>1186.400455</td>\n",
              "    </tr>\n",
              "    <tr>\n",
              "      <th>006CEI5B</th>\n",
              "      <td>2019-12-31 22:51:57+00:00</td>\n",
              "      <td>2.902</td>\n",
              "      <td>36.738</td>\n",
              "      <td>3.208</td>\n",
              "      <td>36.698</td>\n",
              "      <td>32768</td>\n",
              "      <td>2144.383981</td>\n",
              "    </tr>\n",
              "    <tr>\n",
              "      <th>009G0M2T</th>\n",
              "      <td>2019-12-28 21:47:22+00:00</td>\n",
              "      <td>2.860</td>\n",
              "      <td>36.692</td>\n",
              "      <td>2.828</td>\n",
              "      <td>36.696</td>\n",
              "      <td>4513</td>\n",
              "      <td>635.802963</td>\n",
              "    </tr>\n",
              "  </tbody>\n",
              "</table>\n",
              "</div>"
            ],
            "text/plain": [
              "                         Timestamp  Origin_lat  ...  Trip_distance          ETA\n",
              "ID                                              ...                            \n",
              "000V4BQX 2019-12-21 05:52:37+00:00       2.981  ...          17549  1440.430751\n",
              "003WBC5J 2019-12-25 21:38:53+00:00       3.032  ...           7532   938.129423\n",
              "004O4X3A 2019-12-29 21:30:29+00:00       3.035  ...          10194  1186.400455\n",
              "006CEI5B 2019-12-31 22:51:57+00:00       2.902  ...          32768  2144.383981\n",
              "009G0M2T 2019-12-28 21:47:22+00:00       2.860  ...           4513   635.802963\n",
              "\n",
              "[5 rows x 7 columns]"
            ]
          },
          "metadata": {
            "tags": []
          },
          "execution_count": 25
        }
      ]
    },
    {
      "cell_type": "code",
      "metadata": {
        "id": "7_69pHNCFJ1t"
      },
      "source": [
        "submission[['ETA']].to_csv('_rnd_mini_submit_base.csv')"
      ],
      "execution_count": null,
      "outputs": []
    },
    {
      "cell_type": "code",
      "metadata": {
        "id": "euxDcqSR1fy1"
      },
      "source": [
        ""
      ],
      "execution_count": null,
      "outputs": []
    },
    {
      "cell_type": "code",
      "metadata": {
        "id": "5Kiz5lqaFJ1t"
      },
      "source": [
        "# see what pipeline is doing\n",
        "# extract feature names from pipeline\n",
        "def get_column_names_from_ColumnTransformer(column_transformer):    \n",
        "    col_name = []\n",
        "    for transformer_in_columns in column_transformer.transformers_:#the last transformer is ColumnTransformer's 'remainder'\n",
        "        raw_col_name = transformer_in_columns[2]\n",
        "        methods = transformer_in_columns[0]\n",
        "        if isinstance(transformer_in_columns[1],Pipeline): \n",
        "            transformer = transformer_in_columns[1].steps[-1][1]\n",
        "        else:\n",
        "            transformer = transformer_in_columns[1]\n",
        "        try:\n",
        "            names = transformer.get_feature_names()\n",
        "        except AttributeError: # if no 'get_feature_names' function, use raw column name\n",
        "            names = raw_col_name\n",
        "        if isinstance(names,np.ndarray): # eg.\n",
        "            col_name += [methods + '__'+ str(i) for i in names.tolist()]\n",
        "        elif isinstance(names,list):\n",
        "            col_name += [methods + '__'+ str(i) for i in names]    \n",
        "        elif isinstance(names,str):\n",
        "            col_name.append(methods + '__'+ names)\n",
        "    return col_name\n",
        "\n"
      ],
      "execution_count": null,
      "outputs": []
    },
    {
      "cell_type": "code",
      "metadata": {
        "id": "sdZTtIktFJ1u",
        "outputId": "90cb87b6-8401-4284-ca1f-9466eebad1d4"
      },
      "source": [
        "cols = get_column_names_from_ColumnTransformer(pipeline.named_steps['preprocessor'])\n",
        "a = pipeline.named_steps['preprocessor']\n",
        "a.transformers[0][2]"
      ],
      "execution_count": null,
      "outputs": [
        {
          "output_type": "execute_result",
          "data": {
            "text/plain": [
              "['Origin_lat', 'Origin_lon', 'Destination_lat', 'Destination_lon']"
            ]
          },
          "metadata": {
            "tags": []
          },
          "execution_count": 45
        }
      ]
    },
    {
      "cell_type": "code",
      "metadata": {
        "id": "a3Y0vClLFJ1u",
        "outputId": "903eab0c-e1d7-4492-cb3a-81e104b3f56d"
      },
      "source": [
        "a.named_transformers_['Coordninates'].predict(train_df[a.transformers[0][2]])"
      ],
      "execution_count": null,
      "outputs": [
        {
          "output_type": "execute_result",
          "data": {
            "text/plain": [
              "array([7, 7, 2, ..., 5, 5, 0], dtype=int32)"
            ]
          },
          "metadata": {
            "tags": []
          },
          "execution_count": 46
        }
      ]
    },
    {
      "cell_type": "markdown",
      "metadata": {
        "id": "McAUKwy7FJ1v"
      },
      "source": [
        "# add weather data and try other models"
      ]
    },
    {
      "cell_type": "code",
      "metadata": {
        "id": "M9TUhHOYW6_j"
      },
      "source": [
        ""
      ],
      "execution_count": null,
      "outputs": []
    }
  ]
}