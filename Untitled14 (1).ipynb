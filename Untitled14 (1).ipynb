{
  "nbformat": 4,
  "nbformat_minor": 0,
  "metadata": {
    "colab": {
      "name": "Untitled14.ipynb",
      "provenance": []
    },
    "kernelspec": {
      "name": "python3",
      "display_name": "Python 3"
    }
  },
  "cells": [
    {
      "cell_type": "code",
      "metadata": {
        "colab": {
          "base_uri": "https://localhost:8080/",
          "height": 419
        },
        "id": "RwFKx2IrrDIW",
        "outputId": "3fd02e75-0bf3-4bc9-d75c-88c48e81a464"
      },
      "source": [
        "import pandas as pd\r\n",
        "data = pd.read_csv('yassir_eta_sample.csv')\r\n",
        "data"
      ],
      "execution_count": 2,
      "outputs": [
        {
          "output_type": "execute_result",
          "data": {
            "text/html": [
              "<div>\n",
              "<style scoped>\n",
              "    .dataframe tbody tr th:only-of-type {\n",
              "        vertical-align: middle;\n",
              "    }\n",
              "\n",
              "    .dataframe tbody tr th {\n",
              "        vertical-align: top;\n",
              "    }\n",
              "\n",
              "    .dataframe thead th {\n",
              "        text-align: right;\n",
              "    }\n",
              "</style>\n",
              "<table border=\"1\" class=\"dataframe\">\n",
              "  <thead>\n",
              "    <tr style=\"text-align: right;\">\n",
              "      <th></th>\n",
              "      <th>pickup_lat</th>\n",
              "      <th>pickup_lng</th>\n",
              "      <th>dropoff_lat</th>\n",
              "      <th>dropoff_lng</th>\n",
              "      <th>eta</th>\n",
              "      <th>hour</th>\n",
              "      <th>modified_date</th>\n",
              "    </tr>\n",
              "  </thead>\n",
              "  <tbody>\n",
              "    <tr>\n",
              "      <th>0</th>\n",
              "      <td>36.69359</td>\n",
              "      <td>3.08008</td>\n",
              "      <td>36.74878</td>\n",
              "      <td>2.95118</td>\n",
              "      <td>1531</td>\n",
              "      <td>0</td>\n",
              "      <td>30T00:32:54Z</td>\n",
              "    </tr>\n",
              "    <tr>\n",
              "      <th>1</th>\n",
              "      <td>36.77913</td>\n",
              "      <td>3.24047</td>\n",
              "      <td>36.66214</td>\n",
              "      <td>3.05261</td>\n",
              "      <td>2133</td>\n",
              "      <td>0</td>\n",
              "      <td>09T00:16:06Z</td>\n",
              "    </tr>\n",
              "    <tr>\n",
              "      <th>2</th>\n",
              "      <td>36.74482</td>\n",
              "      <td>2.95584</td>\n",
              "      <td>36.74566</td>\n",
              "      <td>2.94355</td>\n",
              "      <td>238</td>\n",
              "      <td>0</td>\n",
              "      <td>26T00:03:14Z</td>\n",
              "    </tr>\n",
              "    <tr>\n",
              "      <th>3</th>\n",
              "      <td>36.70221</td>\n",
              "      <td>2.97031</td>\n",
              "      <td>36.69438</td>\n",
              "      <td>2.97311</td>\n",
              "      <td>278</td>\n",
              "      <td>0</td>\n",
              "      <td>29T00:09:53Z</td>\n",
              "    </tr>\n",
              "    <tr>\n",
              "      <th>4</th>\n",
              "      <td>36.76901</td>\n",
              "      <td>3.03099</td>\n",
              "      <td>36.75186</td>\n",
              "      <td>2.99687</td>\n",
              "      <td>542</td>\n",
              "      <td>0</td>\n",
              "      <td>21T00:30:32Z</td>\n",
              "    </tr>\n",
              "    <tr>\n",
              "      <th>...</th>\n",
              "      <td>...</td>\n",
              "      <td>...</td>\n",
              "      <td>...</td>\n",
              "      <td>...</td>\n",
              "      <td>...</td>\n",
              "      <td>...</td>\n",
              "      <td>...</td>\n",
              "    </tr>\n",
              "    <tr>\n",
              "      <th>119654</th>\n",
              "      <td>36.69903</td>\n",
              "      <td>3.20222</td>\n",
              "      <td>36.78164</td>\n",
              "      <td>3.01257</td>\n",
              "      <td>1515</td>\n",
              "      <td>23</td>\n",
              "      <td>21T23:45:54Z</td>\n",
              "    </tr>\n",
              "    <tr>\n",
              "      <th>119655</th>\n",
              "      <td>36.75759</td>\n",
              "      <td>3.04181</td>\n",
              "      <td>36.70601</td>\n",
              "      <td>3.22820</td>\n",
              "      <td>1348</td>\n",
              "      <td>23</td>\n",
              "      <td>05T23:46:59Z</td>\n",
              "    </tr>\n",
              "    <tr>\n",
              "      <th>119656</th>\n",
              "      <td>36.74288</td>\n",
              "      <td>3.09469</td>\n",
              "      <td>36.75285</td>\n",
              "      <td>2.98006</td>\n",
              "      <td>1134</td>\n",
              "      <td>23</td>\n",
              "      <td>05T23:17:03Z</td>\n",
              "    </tr>\n",
              "    <tr>\n",
              "      <th>119657</th>\n",
              "      <td>36.69680</td>\n",
              "      <td>3.07663</td>\n",
              "      <td>36.72063</td>\n",
              "      <td>3.18550</td>\n",
              "      <td>1192</td>\n",
              "      <td>23</td>\n",
              "      <td>29T23:48:52Z</td>\n",
              "    </tr>\n",
              "    <tr>\n",
              "      <th>119658</th>\n",
              "      <td>36.70861</td>\n",
              "      <td>3.22350</td>\n",
              "      <td>36.76235</td>\n",
              "      <td>2.92259</td>\n",
              "      <td>2146</td>\n",
              "      <td>23</td>\n",
              "      <td>18T23:24:58Z</td>\n",
              "    </tr>\n",
              "  </tbody>\n",
              "</table>\n",
              "<p>119659 rows × 7 columns</p>\n",
              "</div>"
            ],
            "text/plain": [
              "        pickup_lat  pickup_lng  dropoff_lat  ...   eta  hour  modified_date\n",
              "0         36.69359     3.08008     36.74878  ...  1531     0   30T00:32:54Z\n",
              "1         36.77913     3.24047     36.66214  ...  2133     0   09T00:16:06Z\n",
              "2         36.74482     2.95584     36.74566  ...   238     0   26T00:03:14Z\n",
              "3         36.70221     2.97031     36.69438  ...   278     0   29T00:09:53Z\n",
              "4         36.76901     3.03099     36.75186  ...   542     0   21T00:30:32Z\n",
              "...            ...         ...          ...  ...   ...   ...            ...\n",
              "119654    36.69903     3.20222     36.78164  ...  1515    23   21T23:45:54Z\n",
              "119655    36.75759     3.04181     36.70601  ...  1348    23   05T23:46:59Z\n",
              "119656    36.74288     3.09469     36.75285  ...  1134    23   05T23:17:03Z\n",
              "119657    36.69680     3.07663     36.72063  ...  1192    23   29T23:48:52Z\n",
              "119658    36.70861     3.22350     36.76235  ...  2146    23   18T23:24:58Z\n",
              "\n",
              "[119659 rows x 7 columns]"
            ]
          },
          "metadata": {
            "tags": []
          },
          "execution_count": 2
        }
      ]
    },
    {
      "cell_type": "code",
      "metadata": {
        "id": "DTIdQMOWalNi"
      },
      "source": [
        "from math import radians, cos, sin, asin, sqrt \r\n",
        "def distance(lat1, lat2, lon1, lon2): \r\n",
        "      \r\n",
        "    # The math module contains a function named \r\n",
        "    # radians which converts from degrees to radians. \r\n",
        "    lon1 = radians(lon1) \r\n",
        "    lon2 = radians(lon2) \r\n",
        "    lat1 = radians(lat1) \r\n",
        "    lat2 = radians(lat2) \r\n",
        "       \r\n",
        "    # Haversine formula  \r\n",
        "    dlon = lon2 - lon1  \r\n",
        "    dlat = lat2 - lat1 \r\n",
        "    a = sin(dlat / 2)**2 + cos(lat1) * cos(lat2) * sin(dlon / 2)**2\r\n",
        "  \r\n",
        "    c = 2 * asin(sqrt(a))  \r\n",
        "     \r\n",
        "    # Radius of earth in kilometers. Use 3956 for miles \r\n",
        "    r = 6371\r\n",
        "       \r\n",
        "    # calculate the result \r\n",
        "    return(c * r*1000) "
      ],
      "execution_count": 3,
      "outputs": []
    },
    {
      "cell_type": "code",
      "metadata": {
        "id": "Rjfn8o3XahXA"
      },
      "source": [
        "import numpy as np\r\n",
        "lat1 = np.array(data['pickup_lat'])\r\n",
        "lat2 = np.array(data['dropoff_lat'])\r\n",
        "lon1 = np.array(data['pickup_lng'])\r\n",
        "lon2 = np.array(data['dropoff_lng'])\r\n",
        "\r\n",
        "direct_dist = []\r\n",
        "for j in range(len(lat1)):\r\n",
        "  ds = distance(lat1[j],lat2[j],lon1[j],lon2[j])\r\n",
        "  direct_dist.append(ds)"
      ],
      "execution_count": 4,
      "outputs": []
    },
    {
      "cell_type": "code",
      "metadata": {
        "id": "d77JDeKMazkS"
      },
      "source": [
        "data['direct_dist'] = direct_dist"
      ],
      "execution_count": 5,
      "outputs": []
    },
    {
      "cell_type": "code",
      "metadata": {
        "id": "9YLuJlZJrpDi",
        "colab": {
          "base_uri": "https://localhost:8080/",
          "height": 204
        },
        "outputId": "a696e01b-8d24-48be-96aa-80b40362a739"
      },
      "source": [
        "data.head()"
      ],
      "execution_count": 6,
      "outputs": [
        {
          "output_type": "execute_result",
          "data": {
            "text/html": [
              "<div>\n",
              "<style scoped>\n",
              "    .dataframe tbody tr th:only-of-type {\n",
              "        vertical-align: middle;\n",
              "    }\n",
              "\n",
              "    .dataframe tbody tr th {\n",
              "        vertical-align: top;\n",
              "    }\n",
              "\n",
              "    .dataframe thead th {\n",
              "        text-align: right;\n",
              "    }\n",
              "</style>\n",
              "<table border=\"1\" class=\"dataframe\">\n",
              "  <thead>\n",
              "    <tr style=\"text-align: right;\">\n",
              "      <th></th>\n",
              "      <th>pickup_lat</th>\n",
              "      <th>pickup_lng</th>\n",
              "      <th>dropoff_lat</th>\n",
              "      <th>dropoff_lng</th>\n",
              "      <th>eta</th>\n",
              "      <th>hour</th>\n",
              "      <th>modified_date</th>\n",
              "      <th>direct_dist</th>\n",
              "    </tr>\n",
              "  </thead>\n",
              "  <tbody>\n",
              "    <tr>\n",
              "      <th>0</th>\n",
              "      <td>36.69359</td>\n",
              "      <td>3.08008</td>\n",
              "      <td>36.74878</td>\n",
              "      <td>2.95118</td>\n",
              "      <td>1531</td>\n",
              "      <td>0</td>\n",
              "      <td>30T00:32:54Z</td>\n",
              "      <td>13025.020463</td>\n",
              "    </tr>\n",
              "    <tr>\n",
              "      <th>1</th>\n",
              "      <td>36.77913</td>\n",
              "      <td>3.24047</td>\n",
              "      <td>36.66214</td>\n",
              "      <td>3.05261</td>\n",
              "      <td>2133</td>\n",
              "      <td>0</td>\n",
              "      <td>09T00:16:06Z</td>\n",
              "      <td>21203.361733</td>\n",
              "    </tr>\n",
              "    <tr>\n",
              "      <th>2</th>\n",
              "      <td>36.74482</td>\n",
              "      <td>2.95584</td>\n",
              "      <td>36.74566</td>\n",
              "      <td>2.94355</td>\n",
              "      <td>238</td>\n",
              "      <td>0</td>\n",
              "      <td>26T00:03:14Z</td>\n",
              "      <td>1099.026165</td>\n",
              "    </tr>\n",
              "    <tr>\n",
              "      <th>3</th>\n",
              "      <td>36.70221</td>\n",
              "      <td>2.97031</td>\n",
              "      <td>36.69438</td>\n",
              "      <td>2.97311</td>\n",
              "      <td>278</td>\n",
              "      <td>0</td>\n",
              "      <td>29T00:09:53Z</td>\n",
              "      <td>905.737263</td>\n",
              "    </tr>\n",
              "    <tr>\n",
              "      <th>4</th>\n",
              "      <td>36.76901</td>\n",
              "      <td>3.03099</td>\n",
              "      <td>36.75186</td>\n",
              "      <td>2.99687</td>\n",
              "      <td>542</td>\n",
              "      <td>0</td>\n",
              "      <td>21T00:30:32Z</td>\n",
              "      <td>3588.217501</td>\n",
              "    </tr>\n",
              "  </tbody>\n",
              "</table>\n",
              "</div>"
            ],
            "text/plain": [
              "   pickup_lat  pickup_lng  dropoff_lat  ...  hour  modified_date   direct_dist\n",
              "0    36.69359     3.08008     36.74878  ...     0   30T00:32:54Z  13025.020463\n",
              "1    36.77913     3.24047     36.66214  ...     0   09T00:16:06Z  21203.361733\n",
              "2    36.74482     2.95584     36.74566  ...     0   26T00:03:14Z   1099.026165\n",
              "3    36.70221     2.97031     36.69438  ...     0   29T00:09:53Z    905.737263\n",
              "4    36.76901     3.03099     36.75186  ...     0   21T00:30:32Z   3588.217501\n",
              "\n",
              "[5 rows x 8 columns]"
            ]
          },
          "metadata": {
            "tags": []
          },
          "execution_count": 6
        }
      ]
    },
    {
      "cell_type": "code",
      "metadata": {
        "colab": {
          "base_uri": "https://localhost:8080/"
        },
        "id": "QMsx3OfBrvJe",
        "outputId": "689771f4-eda0-48f2-c985-51342812127c"
      },
      "source": [
        "data.shape"
      ],
      "execution_count": 7,
      "outputs": [
        {
          "output_type": "execute_result",
          "data": {
            "text/plain": [
              "(119659, 8)"
            ]
          },
          "metadata": {
            "tags": []
          },
          "execution_count": 7
        }
      ]
    },
    {
      "cell_type": "code",
      "metadata": {
        "id": "vYfRQNjV5Jl1"
      },
      "source": [
        "hour = np.array(data.hour)\r\n",
        "\r\n",
        "hour_code = []\r\n",
        "i = 0\r\n",
        "dic = {0:1,1:2,2:3,3:4,4:5,5:6,20:7,21:8,22:9,23:10}\r\n",
        "for j in range(len(hour)):\r\n",
        "  \r\n",
        "  hour_code.append(dic[int(hour[j])])\r\n",
        "  \r\n",
        "\r\n",
        "  \r\n",
        "  \r\n"
      ],
      "execution_count": 8,
      "outputs": []
    },
    {
      "cell_type": "code",
      "metadata": {
        "colab": {
          "base_uri": "https://localhost:8080/",
          "height": 204
        },
        "id": "svkwoAop58Dc",
        "outputId": "620d727c-c4c7-42dc-8c12-71fa9b592a7d"
      },
      "source": [
        "data['hour_code'] = hour_code\r\n",
        "data = data.sample(frac=1)\r\n",
        "data.head()"
      ],
      "execution_count": 9,
      "outputs": [
        {
          "output_type": "execute_result",
          "data": {
            "text/html": [
              "<div>\n",
              "<style scoped>\n",
              "    .dataframe tbody tr th:only-of-type {\n",
              "        vertical-align: middle;\n",
              "    }\n",
              "\n",
              "    .dataframe tbody tr th {\n",
              "        vertical-align: top;\n",
              "    }\n",
              "\n",
              "    .dataframe thead th {\n",
              "        text-align: right;\n",
              "    }\n",
              "</style>\n",
              "<table border=\"1\" class=\"dataframe\">\n",
              "  <thead>\n",
              "    <tr style=\"text-align: right;\">\n",
              "      <th></th>\n",
              "      <th>pickup_lat</th>\n",
              "      <th>pickup_lng</th>\n",
              "      <th>dropoff_lat</th>\n",
              "      <th>dropoff_lng</th>\n",
              "      <th>eta</th>\n",
              "      <th>hour</th>\n",
              "      <th>modified_date</th>\n",
              "      <th>direct_dist</th>\n",
              "      <th>hour_code</th>\n",
              "    </tr>\n",
              "  </thead>\n",
              "  <tbody>\n",
              "    <tr>\n",
              "      <th>50747</th>\n",
              "      <td>36.72969</td>\n",
              "      <td>3.03139</td>\n",
              "      <td>36.70063</td>\n",
              "      <td>3.06021</td>\n",
              "      <td>787</td>\n",
              "      <td>20</td>\n",
              "      <td>30T20:59:31Z</td>\n",
              "      <td>4128.034988</td>\n",
              "      <td>7</td>\n",
              "    </tr>\n",
              "    <tr>\n",
              "      <th>104912</th>\n",
              "      <td>36.70219</td>\n",
              "      <td>3.00831</td>\n",
              "      <td>36.74719</td>\n",
              "      <td>3.19043</td>\n",
              "      <td>2014</td>\n",
              "      <td>22</td>\n",
              "      <td>22T22:47:32Z</td>\n",
              "      <td>16985.166571</td>\n",
              "      <td>9</td>\n",
              "    </tr>\n",
              "    <tr>\n",
              "      <th>78830</th>\n",
              "      <td>36.79994</td>\n",
              "      <td>2.90880</td>\n",
              "      <td>36.79941</td>\n",
              "      <td>2.90723</td>\n",
              "      <td>59</td>\n",
              "      <td>21</td>\n",
              "      <td>08T21:10:22Z</td>\n",
              "      <td>151.704080</td>\n",
              "      <td>8</td>\n",
              "    </tr>\n",
              "    <tr>\n",
              "      <th>92832</th>\n",
              "      <td>36.64909</td>\n",
              "      <td>2.92758</td>\n",
              "      <td>36.80326</td>\n",
              "      <td>2.90012</td>\n",
              "      <td>2287</td>\n",
              "      <td>22</td>\n",
              "      <td>11T22:47:06Z</td>\n",
              "      <td>17316.729630</td>\n",
              "      <td>9</td>\n",
              "    </tr>\n",
              "    <tr>\n",
              "      <th>66126</th>\n",
              "      <td>36.74063</td>\n",
              "      <td>2.87474</td>\n",
              "      <td>36.66730</td>\n",
              "      <td>3.09858</td>\n",
              "      <td>1850</td>\n",
              "      <td>21</td>\n",
              "      <td>26T21:03:22Z</td>\n",
              "      <td>21556.686462</td>\n",
              "      <td>8</td>\n",
              "    </tr>\n",
              "  </tbody>\n",
              "</table>\n",
              "</div>"
            ],
            "text/plain": [
              "        pickup_lat  pickup_lng  ...   direct_dist  hour_code\n",
              "50747     36.72969     3.03139  ...   4128.034988          7\n",
              "104912    36.70219     3.00831  ...  16985.166571          9\n",
              "78830     36.79994     2.90880  ...    151.704080          8\n",
              "92832     36.64909     2.92758  ...  17316.729630          9\n",
              "66126     36.74063     2.87474  ...  21556.686462          8\n",
              "\n",
              "[5 rows x 9 columns]"
            ]
          },
          "metadata": {
            "tags": []
          },
          "execution_count": 9
        }
      ]
    },
    {
      "cell_type": "code",
      "metadata": {
        "id": "ojrHUJNn8h7t"
      },
      "source": [
        "from sklearn.preprocessing import MinMaxScaler\r\n",
        "prepro_y = MinMaxScaler()\r\n",
        "oout = np.array(data.eta).reshape(-1,1)\r\n",
        "prepro_y.fit(oout)\r\n",
        "oout = prepro_y.transform(oout)"
      ],
      "execution_count": 10,
      "outputs": []
    },
    {
      "cell_type": "code",
      "metadata": {
        "colab": {
          "base_uri": "https://localhost:8080/",
          "height": 419
        },
        "id": "MQtJLqwJw29n",
        "outputId": "0ee3ff84-df2a-4ca6-cbff-e943be04804b"
      },
      "source": [
        "def replace(group):\r\n",
        "    mean, std = group.mean(), group.std()\r\n",
        "    outliers = (group - mean).abs() > 3*std\r\n",
        "    group[outliers] = mean        # or \"group[~outliers].mean()\"\r\n",
        "    return group\r\n",
        "t = ['pickup_lat', 'pickup_lng', 'dropoff_lat', 'dropoff_lng','direct_dist']\r\n",
        "for j in t:\r\n",
        "  data.groupby(j).transform(replace)\r\n",
        "data"
      ],
      "execution_count": 11,
      "outputs": [
        {
          "output_type": "execute_result",
          "data": {
            "text/html": [
              "<div>\n",
              "<style scoped>\n",
              "    .dataframe tbody tr th:only-of-type {\n",
              "        vertical-align: middle;\n",
              "    }\n",
              "\n",
              "    .dataframe tbody tr th {\n",
              "        vertical-align: top;\n",
              "    }\n",
              "\n",
              "    .dataframe thead th {\n",
              "        text-align: right;\n",
              "    }\n",
              "</style>\n",
              "<table border=\"1\" class=\"dataframe\">\n",
              "  <thead>\n",
              "    <tr style=\"text-align: right;\">\n",
              "      <th></th>\n",
              "      <th>pickup_lat</th>\n",
              "      <th>pickup_lng</th>\n",
              "      <th>dropoff_lat</th>\n",
              "      <th>dropoff_lng</th>\n",
              "      <th>eta</th>\n",
              "      <th>hour</th>\n",
              "      <th>modified_date</th>\n",
              "      <th>direct_dist</th>\n",
              "      <th>hour_code</th>\n",
              "    </tr>\n",
              "  </thead>\n",
              "  <tbody>\n",
              "    <tr>\n",
              "      <th>50747</th>\n",
              "      <td>36.72969</td>\n",
              "      <td>3.03139</td>\n",
              "      <td>36.70063</td>\n",
              "      <td>3.06021</td>\n",
              "      <td>787</td>\n",
              "      <td>20</td>\n",
              "      <td>30T20:59:31Z</td>\n",
              "      <td>4128.034988</td>\n",
              "      <td>7</td>\n",
              "    </tr>\n",
              "    <tr>\n",
              "      <th>104912</th>\n",
              "      <td>36.70219</td>\n",
              "      <td>3.00831</td>\n",
              "      <td>36.74719</td>\n",
              "      <td>3.19043</td>\n",
              "      <td>2014</td>\n",
              "      <td>22</td>\n",
              "      <td>22T22:47:32Z</td>\n",
              "      <td>16985.166571</td>\n",
              "      <td>9</td>\n",
              "    </tr>\n",
              "    <tr>\n",
              "      <th>78830</th>\n",
              "      <td>36.79994</td>\n",
              "      <td>2.90880</td>\n",
              "      <td>36.79941</td>\n",
              "      <td>2.90723</td>\n",
              "      <td>59</td>\n",
              "      <td>21</td>\n",
              "      <td>08T21:10:22Z</td>\n",
              "      <td>151.704080</td>\n",
              "      <td>8</td>\n",
              "    </tr>\n",
              "    <tr>\n",
              "      <th>92832</th>\n",
              "      <td>36.64909</td>\n",
              "      <td>2.92758</td>\n",
              "      <td>36.80326</td>\n",
              "      <td>2.90012</td>\n",
              "      <td>2287</td>\n",
              "      <td>22</td>\n",
              "      <td>11T22:47:06Z</td>\n",
              "      <td>17316.729630</td>\n",
              "      <td>9</td>\n",
              "    </tr>\n",
              "    <tr>\n",
              "      <th>66126</th>\n",
              "      <td>36.74063</td>\n",
              "      <td>2.87474</td>\n",
              "      <td>36.66730</td>\n",
              "      <td>3.09858</td>\n",
              "      <td>1850</td>\n",
              "      <td>21</td>\n",
              "      <td>26T21:03:22Z</td>\n",
              "      <td>21556.686462</td>\n",
              "      <td>8</td>\n",
              "    </tr>\n",
              "    <tr>\n",
              "      <th>...</th>\n",
              "      <td>...</td>\n",
              "      <td>...</td>\n",
              "      <td>...</td>\n",
              "      <td>...</td>\n",
              "      <td>...</td>\n",
              "      <td>...</td>\n",
              "      <td>...</td>\n",
              "      <td>...</td>\n",
              "      <td>...</td>\n",
              "    </tr>\n",
              "    <tr>\n",
              "      <th>48844</th>\n",
              "      <td>36.75225</td>\n",
              "      <td>2.99449</td>\n",
              "      <td>36.78164</td>\n",
              "      <td>3.01257</td>\n",
              "      <td>694</td>\n",
              "      <td>20</td>\n",
              "      <td>18T20:10:38Z</td>\n",
              "      <td>3643.297931</td>\n",
              "      <td>7</td>\n",
              "    </tr>\n",
              "    <tr>\n",
              "      <th>85407</th>\n",
              "      <td>36.69177</td>\n",
              "      <td>3.07179</td>\n",
              "      <td>36.75165</td>\n",
              "      <td>2.88818</td>\n",
              "      <td>1663</td>\n",
              "      <td>21</td>\n",
              "      <td>16T21:47:12Z</td>\n",
              "      <td>17667.515834</td>\n",
              "      <td>8</td>\n",
              "    </tr>\n",
              "    <tr>\n",
              "      <th>68055</th>\n",
              "      <td>36.76407</td>\n",
              "      <td>3.04875</td>\n",
              "      <td>36.74224</td>\n",
              "      <td>2.98419</td>\n",
              "      <td>888</td>\n",
              "      <td>21</td>\n",
              "      <td>16T21:15:45Z</td>\n",
              "      <td>6242.991123</td>\n",
              "      <td>8</td>\n",
              "    </tr>\n",
              "    <tr>\n",
              "      <th>112803</th>\n",
              "      <td>36.73740</td>\n",
              "      <td>2.99408</td>\n",
              "      <td>36.76016</td>\n",
              "      <td>3.04232</td>\n",
              "      <td>965</td>\n",
              "      <td>23</td>\n",
              "      <td>26T23:38:11Z</td>\n",
              "      <td>4987.782936</td>\n",
              "      <td>10</td>\n",
              "    </tr>\n",
              "    <tr>\n",
              "      <th>28834</th>\n",
              "      <td>36.66393</td>\n",
              "      <td>3.15113</td>\n",
              "      <td>36.71627</td>\n",
              "      <td>3.04260</td>\n",
              "      <td>1524</td>\n",
              "      <td>5</td>\n",
              "      <td>22T05:23:38Z</td>\n",
              "      <td>11292.353474</td>\n",
              "      <td>6</td>\n",
              "    </tr>\n",
              "  </tbody>\n",
              "</table>\n",
              "<p>119659 rows × 9 columns</p>\n",
              "</div>"
            ],
            "text/plain": [
              "        pickup_lat  pickup_lng  ...   direct_dist  hour_code\n",
              "50747     36.72969     3.03139  ...   4128.034988          7\n",
              "104912    36.70219     3.00831  ...  16985.166571          9\n",
              "78830     36.79994     2.90880  ...    151.704080          8\n",
              "92832     36.64909     2.92758  ...  17316.729630          9\n",
              "66126     36.74063     2.87474  ...  21556.686462          8\n",
              "...            ...         ...  ...           ...        ...\n",
              "48844     36.75225     2.99449  ...   3643.297931          7\n",
              "85407     36.69177     3.07179  ...  17667.515834          8\n",
              "68055     36.76407     3.04875  ...   6242.991123          8\n",
              "112803    36.73740     2.99408  ...   4987.782936         10\n",
              "28834     36.66393     3.15113  ...  11292.353474          6\n",
              "\n",
              "[119659 rows x 9 columns]"
            ]
          },
          "metadata": {
            "tags": []
          },
          "execution_count": 11
        }
      ]
    },
    {
      "cell_type": "code",
      "metadata": {
        "id": "86UmdoEG3kYX"
      },
      "source": [
        ""
      ],
      "execution_count": null,
      "outputs": []
    },
    {
      "cell_type": "code",
      "metadata": {
        "id": "mJ5TI1FjsDcZ"
      },
      "source": [
        "from sklearn.model_selection import train_test_split\r\n",
        "from sklearn.preprocessing import MinMaxScaler\r\n",
        "\r\n",
        "scaler = MinMaxScaler()"
      ],
      "execution_count": 12,
      "outputs": []
    },
    {
      "cell_type": "code",
      "metadata": {
        "id": "Zj2HZ5kWA38h"
      },
      "source": [
        "#data[['pickup_lat','pickup_lng',\t'dropoff_lat',\t'dropoff_lng','hour']] = scaler.fit_transform(data[['pickup_lat','pickup_lng',\t'dropoff_lat',\t'dropoff_lng','hour']])\r\n",
        "scaler.fit(data[['pickup_lat','pickup_lng',\t'dropoff_lat',\t'dropoff_lng','hour']])\r\n",
        "data[['pickup_lat','pickup_lng',\t'dropoff_lat',\t'dropoff_lng','hour']] = scaler.transform(data[['pickup_lat','pickup_lng',\t'dropoff_lat',\t'dropoff_lng','hour']])"
      ],
      "execution_count": 13,
      "outputs": []
    },
    {
      "cell_type": "code",
      "metadata": {
        "colab": {
          "base_uri": "https://localhost:8080/",
          "height": 419
        },
        "id": "Qbf05sS2BGUt",
        "outputId": "5e470feb-7af4-4e24-a685-253b914ec91b"
      },
      "source": [
        "data"
      ],
      "execution_count": 14,
      "outputs": [
        {
          "output_type": "execute_result",
          "data": {
            "text/html": [
              "<div>\n",
              "<style scoped>\n",
              "    .dataframe tbody tr th:only-of-type {\n",
              "        vertical-align: middle;\n",
              "    }\n",
              "\n",
              "    .dataframe tbody tr th {\n",
              "        vertical-align: top;\n",
              "    }\n",
              "\n",
              "    .dataframe thead th {\n",
              "        text-align: right;\n",
              "    }\n",
              "</style>\n",
              "<table border=\"1\" class=\"dataframe\">\n",
              "  <thead>\n",
              "    <tr style=\"text-align: right;\">\n",
              "      <th></th>\n",
              "      <th>pickup_lat</th>\n",
              "      <th>pickup_lng</th>\n",
              "      <th>dropoff_lat</th>\n",
              "      <th>dropoff_lng</th>\n",
              "      <th>eta</th>\n",
              "      <th>hour</th>\n",
              "      <th>modified_date</th>\n",
              "      <th>direct_dist</th>\n",
              "      <th>hour_code</th>\n",
              "    </tr>\n",
              "  </thead>\n",
              "  <tbody>\n",
              "    <tr>\n",
              "      <th>50747</th>\n",
              "      <td>0.612362</td>\n",
              "      <td>0.392642</td>\n",
              "      <td>0.481895</td>\n",
              "      <td>0.441621</td>\n",
              "      <td>787</td>\n",
              "      <td>0.869565</td>\n",
              "      <td>30T20:59:31Z</td>\n",
              "      <td>4128.034988</td>\n",
              "      <td>7</td>\n",
              "    </tr>\n",
              "    <tr>\n",
              "      <th>104912</th>\n",
              "      <td>0.493082</td>\n",
              "      <td>0.352476</td>\n",
              "      <td>0.687494</td>\n",
              "      <td>0.668719</td>\n",
              "      <td>2014</td>\n",
              "      <td>0.956522</td>\n",
              "      <td>22T22:47:32Z</td>\n",
              "      <td>16985.166571</td>\n",
              "      <td>9</td>\n",
              "    </tr>\n",
              "    <tr>\n",
              "      <th>78830</th>\n",
              "      <td>0.917068</td>\n",
              "      <td>0.179301</td>\n",
              "      <td>0.918087</td>\n",
              "      <td>0.174831</td>\n",
              "      <td>59</td>\n",
              "      <td>0.913043</td>\n",
              "      <td>08T21:10:22Z</td>\n",
              "      <td>151.704080</td>\n",
              "      <td>8</td>\n",
              "    </tr>\n",
              "    <tr>\n",
              "      <th>92832</th>\n",
              "      <td>0.262763</td>\n",
              "      <td>0.211984</td>\n",
              "      <td>0.935088</td>\n",
              "      <td>0.162432</td>\n",
              "      <td>2287</td>\n",
              "      <td>0.956522</td>\n",
              "      <td>11T22:47:06Z</td>\n",
              "      <td>17316.729630</td>\n",
              "      <td>9</td>\n",
              "    </tr>\n",
              "    <tr>\n",
              "      <th>66126</th>\n",
              "      <td>0.659813</td>\n",
              "      <td>0.120027</td>\n",
              "      <td>0.334717</td>\n",
              "      <td>0.508537</td>\n",
              "      <td>1850</td>\n",
              "      <td>0.913043</td>\n",
              "      <td>26T21:03:22Z</td>\n",
              "      <td>21556.686462</td>\n",
              "      <td>8</td>\n",
              "    </tr>\n",
              "    <tr>\n",
              "      <th>...</th>\n",
              "      <td>...</td>\n",
              "      <td>...</td>\n",
              "      <td>...</td>\n",
              "      <td>...</td>\n",
              "      <td>...</td>\n",
              "      <td>...</td>\n",
              "      <td>...</td>\n",
              "      <td>...</td>\n",
              "      <td>...</td>\n",
              "    </tr>\n",
              "    <tr>\n",
              "      <th>48844</th>\n",
              "      <td>0.710215</td>\n",
              "      <td>0.328426</td>\n",
              "      <td>0.839618</td>\n",
              "      <td>0.358539</td>\n",
              "      <td>694</td>\n",
              "      <td>0.869565</td>\n",
              "      <td>18T20:10:38Z</td>\n",
              "      <td>3643.297931</td>\n",
              "      <td>7</td>\n",
              "    </tr>\n",
              "    <tr>\n",
              "      <th>85407</th>\n",
              "      <td>0.447885</td>\n",
              "      <td>0.462949</td>\n",
              "      <td>0.707189</td>\n",
              "      <td>0.141609</td>\n",
              "      <td>1663</td>\n",
              "      <td>0.913043</td>\n",
              "      <td>16T21:47:12Z</td>\n",
              "      <td>17667.515834</td>\n",
              "      <td>8</td>\n",
              "    </tr>\n",
              "    <tr>\n",
              "      <th>68055</th>\n",
              "      <td>0.761483</td>\n",
              "      <td>0.422853</td>\n",
              "      <td>0.665636</td>\n",
              "      <td>0.309046</td>\n",
              "      <td>888</td>\n",
              "      <td>0.913043</td>\n",
              "      <td>16T21:15:45Z</td>\n",
              "      <td>6242.991123</td>\n",
              "      <td>8</td>\n",
              "    </tr>\n",
              "    <tr>\n",
              "      <th>112803</th>\n",
              "      <td>0.645804</td>\n",
              "      <td>0.327712</td>\n",
              "      <td>0.744767</td>\n",
              "      <td>0.410422</td>\n",
              "      <td>965</td>\n",
              "      <td>1.000000</td>\n",
              "      <td>26T23:38:11Z</td>\n",
              "      <td>4987.782936</td>\n",
              "      <td>10</td>\n",
              "    </tr>\n",
              "    <tr>\n",
              "      <th>28834</th>\n",
              "      <td>0.327131</td>\n",
              "      <td>0.601023</td>\n",
              "      <td>0.550958</td>\n",
              "      <td>0.410910</td>\n",
              "      <td>1524</td>\n",
              "      <td>0.217391</td>\n",
              "      <td>22T05:23:38Z</td>\n",
              "      <td>11292.353474</td>\n",
              "      <td>6</td>\n",
              "    </tr>\n",
              "  </tbody>\n",
              "</table>\n",
              "<p>119659 rows × 9 columns</p>\n",
              "</div>"
            ],
            "text/plain": [
              "        pickup_lat  pickup_lng  ...   direct_dist  hour_code\n",
              "50747     0.612362    0.392642  ...   4128.034988          7\n",
              "104912    0.493082    0.352476  ...  16985.166571          9\n",
              "78830     0.917068    0.179301  ...    151.704080          8\n",
              "92832     0.262763    0.211984  ...  17316.729630          9\n",
              "66126     0.659813    0.120027  ...  21556.686462          8\n",
              "...            ...         ...  ...           ...        ...\n",
              "48844     0.710215    0.328426  ...   3643.297931          7\n",
              "85407     0.447885    0.462949  ...  17667.515834          8\n",
              "68055     0.761483    0.422853  ...   6242.991123          8\n",
              "112803    0.645804    0.327712  ...   4987.782936         10\n",
              "28834     0.327131    0.601023  ...  11292.353474          6\n",
              "\n",
              "[119659 rows x 9 columns]"
            ]
          },
          "metadata": {
            "tags": []
          },
          "execution_count": 14
        }
      ]
    },
    {
      "cell_type": "code",
      "metadata": {
        "id": "4PYfa53tsjPv"
      },
      "source": [
        "from sklearn.preprocessing import StandardScaler\r\n",
        "scaler = StandardScaler()\r\n",
        "scaler.fit(np.array(data['direct_dist']).reshape(-1, 1))\r\n",
        "data['direct_dist'] = scaler.transform(np.array(data['direct_dist']).reshape(-1, 1))"
      ],
      "execution_count": 15,
      "outputs": []
    },
    {
      "cell_type": "code",
      "metadata": {
        "colab": {
          "base_uri": "https://localhost:8080/",
          "height": 163
        },
        "id": "c4nvue39s-H8",
        "outputId": "3cfe70eb-08f8-465d-dda8-f85673d7df94"
      },
      "source": [
        "scaler.data_max_"
      ],
      "execution_count": null,
      "outputs": [
        {
          "output_type": "error",
          "ename": "AttributeError",
          "evalue": "ignored",
          "traceback": [
            "\u001b[0;31m---------------------------------------------------------------------------\u001b[0m",
            "\u001b[0;31mAttributeError\u001b[0m                            Traceback (most recent call last)",
            "\u001b[0;32m<ipython-input-90-a76db86c55b9>\u001b[0m in \u001b[0;36m<module>\u001b[0;34m()\u001b[0m\n\u001b[0;32m----> 1\u001b[0;31m \u001b[0mscaler\u001b[0m\u001b[0;34m.\u001b[0m\u001b[0mdata_max_\u001b[0m\u001b[0;34m\u001b[0m\u001b[0;34m\u001b[0m\u001b[0m\n\u001b[0m",
            "\u001b[0;31mAttributeError\u001b[0m: 'StandardScaler' object has no attribute 'data_max_'"
          ]
        }
      ]
    },
    {
      "cell_type": "code",
      "metadata": {
        "colab": {
          "base_uri": "https://localhost:8080/",
          "height": 297
        },
        "id": "na6Dh7m9RzZ_",
        "outputId": "6e7e5e5f-466e-4488-a27e-04ff4bd7f4ab"
      },
      "source": [
        "data.corr()"
      ],
      "execution_count": 38,
      "outputs": [
        {
          "output_type": "execute_result",
          "data": {
            "text/html": [
              "<div>\n",
              "<style scoped>\n",
              "    .dataframe tbody tr th:only-of-type {\n",
              "        vertical-align: middle;\n",
              "    }\n",
              "\n",
              "    .dataframe tbody tr th {\n",
              "        vertical-align: top;\n",
              "    }\n",
              "\n",
              "    .dataframe thead th {\n",
              "        text-align: right;\n",
              "    }\n",
              "</style>\n",
              "<table border=\"1\" class=\"dataframe\">\n",
              "  <thead>\n",
              "    <tr style=\"text-align: right;\">\n",
              "      <th></th>\n",
              "      <th>pickup_lat</th>\n",
              "      <th>pickup_lng</th>\n",
              "      <th>dropoff_lat</th>\n",
              "      <th>dropoff_lng</th>\n",
              "      <th>eta</th>\n",
              "      <th>hour</th>\n",
              "      <th>direct_dist</th>\n",
              "      <th>hour_code</th>\n",
              "    </tr>\n",
              "  </thead>\n",
              "  <tbody>\n",
              "    <tr>\n",
              "      <th>pickup_lat</th>\n",
              "      <td>1.000000</td>\n",
              "      <td>-0.168752</td>\n",
              "      <td>0.173195</td>\n",
              "      <td>-0.052440</td>\n",
              "      <td>-0.053931</td>\n",
              "      <td>0.007353</td>\n",
              "      <td>-0.078405</td>\n",
              "      <td>0.005119</td>\n",
              "    </tr>\n",
              "    <tr>\n",
              "      <th>pickup_lng</th>\n",
              "      <td>-0.168752</td>\n",
              "      <td>1.000000</td>\n",
              "      <td>-0.054072</td>\n",
              "      <td>0.311147</td>\n",
              "      <td>0.031324</td>\n",
              "      <td>0.012846</td>\n",
              "      <td>0.072384</td>\n",
              "      <td>0.012723</td>\n",
              "    </tr>\n",
              "    <tr>\n",
              "      <th>dropoff_lat</th>\n",
              "      <td>0.173195</td>\n",
              "      <td>-0.054072</td>\n",
              "      <td>1.000000</td>\n",
              "      <td>-0.211451</td>\n",
              "      <td>-0.078016</td>\n",
              "      <td>-0.013388</td>\n",
              "      <td>-0.148583</td>\n",
              "      <td>-0.015223</td>\n",
              "    </tr>\n",
              "    <tr>\n",
              "      <th>dropoff_lng</th>\n",
              "      <td>-0.052440</td>\n",
              "      <td>0.311147</td>\n",
              "      <td>-0.211451</td>\n",
              "      <td>1.000000</td>\n",
              "      <td>0.044669</td>\n",
              "      <td>-0.016896</td>\n",
              "      <td>0.119848</td>\n",
              "      <td>0.000727</td>\n",
              "    </tr>\n",
              "    <tr>\n",
              "      <th>eta</th>\n",
              "      <td>-0.053931</td>\n",
              "      <td>0.031324</td>\n",
              "      <td>-0.078016</td>\n",
              "      <td>0.044669</td>\n",
              "      <td>1.000000</td>\n",
              "      <td>-0.012108</td>\n",
              "      <td>0.846200</td>\n",
              "      <td>-0.004068</td>\n",
              "    </tr>\n",
              "    <tr>\n",
              "      <th>hour</th>\n",
              "      <td>0.007353</td>\n",
              "      <td>0.012846</td>\n",
              "      <td>-0.013388</td>\n",
              "      <td>-0.016896</td>\n",
              "      <td>-0.012108</td>\n",
              "      <td>1.000000</td>\n",
              "      <td>-0.018953</td>\n",
              "      <td>0.909954</td>\n",
              "    </tr>\n",
              "    <tr>\n",
              "      <th>direct_dist</th>\n",
              "      <td>-0.078405</td>\n",
              "      <td>0.072384</td>\n",
              "      <td>-0.148583</td>\n",
              "      <td>0.119848</td>\n",
              "      <td>0.846200</td>\n",
              "      <td>-0.018953</td>\n",
              "      <td>1.000000</td>\n",
              "      <td>-0.006047</td>\n",
              "    </tr>\n",
              "    <tr>\n",
              "      <th>hour_code</th>\n",
              "      <td>0.005119</td>\n",
              "      <td>0.012723</td>\n",
              "      <td>-0.015223</td>\n",
              "      <td>0.000727</td>\n",
              "      <td>-0.004068</td>\n",
              "      <td>0.909954</td>\n",
              "      <td>-0.006047</td>\n",
              "      <td>1.000000</td>\n",
              "    </tr>\n",
              "  </tbody>\n",
              "</table>\n",
              "</div>"
            ],
            "text/plain": [
              "             pickup_lat  pickup_lng  ...  direct_dist  hour_code\n",
              "pickup_lat     1.000000   -0.168752  ...    -0.078405   0.005119\n",
              "pickup_lng    -0.168752    1.000000  ...     0.072384   0.012723\n",
              "dropoff_lat    0.173195   -0.054072  ...    -0.148583  -0.015223\n",
              "dropoff_lng   -0.052440    0.311147  ...     0.119848   0.000727\n",
              "eta           -0.053931    0.031324  ...     0.846200  -0.004068\n",
              "hour           0.007353    0.012846  ...    -0.018953   0.909954\n",
              "direct_dist   -0.078405    0.072384  ...     1.000000  -0.006047\n",
              "hour_code      0.005119    0.012723  ...    -0.006047   1.000000\n",
              "\n",
              "[8 rows x 8 columns]"
            ]
          },
          "metadata": {
            "tags": []
          },
          "execution_count": 38
        }
      ]
    },
    {
      "cell_type": "code",
      "metadata": {
        "colab": {
          "base_uri": "https://localhost:8080/"
        },
        "id": "F7mP8jSzE0py",
        "outputId": "bd8ec15c-14be-4b3c-e755-65a8260a3178"
      },
      "source": [
        "oout"
      ],
      "execution_count": 39,
      "outputs": [
        {
          "output_type": "execute_result",
          "data": {
            "text/plain": [
              "array([[0.22703838],\n",
              "       [0.45044873],\n",
              "       [0.15065877],\n",
              "       ...,\n",
              "       [0.22016422],\n",
              "       [0.11514226],\n",
              "       [0.18999427]])"
            ]
          },
          "metadata": {
            "tags": []
          },
          "execution_count": 39
        }
      ]
    },
    {
      "cell_type": "code",
      "metadata": {
        "id": "Tp2t72OsBJ6-"
      },
      "source": [
        "X = data[['pickup_lat','pickup_lng',\t'dropoff_lat',\t'dropoff_lng','hour']]\r\n",
        "y = oout\r\n",
        "\r\n",
        "X_train ,X_test , y_train ,y_test = train_test_split(X,y,test_size=0.2,random_state=42)\r\n",
        "\r\n"
      ],
      "execution_count": 24,
      "outputs": []
    },
    {
      "cell_type": "code",
      "metadata": {
        "id": "E-D71LhtCDbt"
      },
      "source": [
        "from sklearn.ensemble import RandomForestRegressor\r\n",
        "\r\n",
        "model = RandomForestRegressor(n_estimators = 1400, random_state = 42)"
      ],
      "execution_count": 21,
      "outputs": []
    },
    {
      "cell_type": "code",
      "metadata": {
        "colab": {
          "base_uri": "https://localhost:8080/"
        },
        "id": "oiIXTN7bCRwn",
        "outputId": "1b46e3c2-3a22-4243-af27-df5947bdf1e3"
      },
      "source": [
        "model.fit(X_train,y_train)"
      ],
      "execution_count": 71,
      "outputs": [
        {
          "output_type": "stream",
          "text": [
            "/usr/local/lib/python3.6/dist-packages/ipykernel_launcher.py:1: DataConversionWarning: A column-vector y was passed when a 1d array was expected. Please change the shape of y to (n_samples,), for example using ravel().\n",
            "  \"\"\"Entry point for launching an IPython kernel.\n"
          ],
          "name": "stderr"
        },
        {
          "output_type": "execute_result",
          "data": {
            "text/plain": [
              "RandomForestRegressor(bootstrap=True, ccp_alpha=0.0, criterion='mse',\n",
              "                      max_depth=None, max_features='auto', max_leaf_nodes=None,\n",
              "                      max_samples=None, min_impurity_decrease=0.0,\n",
              "                      min_impurity_split=None, min_samples_leaf=1,\n",
              "                      min_samples_split=2, min_weight_fraction_leaf=0.0,\n",
              "                      n_estimators=1000, n_jobs=None, oob_score=False,\n",
              "                      random_state=42, verbose=0, warm_start=False)"
            ]
          },
          "metadata": {
            "tags": []
          },
          "execution_count": 71
        }
      ]
    },
    {
      "cell_type": "code",
      "metadata": {
        "colab": {
          "base_uri": "https://localhost:8080/"
        },
        "id": "rU3lkGZgCV_e",
        "outputId": "6567dca8-3b91-4023-f377-c7536657d159"
      },
      "source": [
        "from sklearn import metrics\r\n",
        "import numpy as np\r\n",
        "\r\n",
        "y_test_true = np.array(y_test).reshape(-1,1)\r\n",
        "prd = np.array(model.predict(X_test)).reshape(-1,1)\r\n",
        "np.sqrt(metrics.mean_squared_error(prepro_y.inverse_transform(y_test_true),prepro_y.inverse_transform( prd)))"
      ],
      "execution_count": 73,
      "outputs": [
        {
          "output_type": "execute_result",
          "data": {
            "text/plain": [
              "144.22897214794668"
            ]
          },
          "metadata": {
            "tags": []
          },
          "execution_count": 73
        }
      ]
    },
    {
      "cell_type": "code",
      "metadata": {
        "id": "MuyE80P5m_Dt"
      },
      "source": [
        ""
      ],
      "execution_count": 91,
      "outputs": []
    },
    {
      "cell_type": "code",
      "metadata": {
        "id": "0T3pfAIam_IL"
      },
      "source": [
        ""
      ],
      "execution_count": null,
      "outputs": []
    },
    {
      "cell_type": "code",
      "metadata": {
        "id": "F6BTAT15DE-D"
      },
      "source": [
        "from sklearn import pipeline \r\n",
        "from sklearn.compose import ColumnTransformer\r\n",
        "from sklearn import cluster\r\n",
        "preprocessor = ColumnTransformer(\r\n",
        "        transformers=[\r\n",
        "            ('Coordninates-depart', cluster.KMeans(n_clusters=100),['pickup_lat','pickup_lng']),\r\n",
        "              ('Coordninates-arrive', cluster.KMeans(n_clusters=100),[\r\n",
        "                                                           'dropoff_lat',\t'dropoff_lng']),\r\n",
        "            \r\n",
        "        \r\n",
        "])\r\n",
        "    # create model\r\n",
        "pipeline = pipeline.Pipeline(steps=[\r\n",
        "                          ('preprocessor', preprocessor),\r\n",
        "    \r\n",
        "                          ('Regression', RandomForestRegressor())])   "
      ],
      "execution_count": 22,
      "outputs": []
    },
    {
      "cell_type": "code",
      "metadata": {
        "colab": {
          "base_uri": "https://localhost:8080/",
          "height": 234
        },
        "id": "SzwREwZ5DZEN",
        "outputId": "3644b078-7896-490d-83d8-176e1d7a5531"
      },
      "source": [
        "pipeline.fit(X_train, y_train)\r\n"
      ],
      "execution_count": 26,
      "outputs": [
        {
          "output_type": "stream",
          "text": [
            "/usr/local/lib/python3.6/dist-packages/sklearn/pipeline.py:354: DataConversionWarning: A column-vector y was passed when a 1d array was expected. Please change the shape of y to (n_samples,), for example using ravel().\n",
            "  self._final_estimator.fit(Xt, y, **fit_params)\n"
          ],
          "name": "stderr"
        },
        {
          "output_type": "error",
          "ename": "NameError",
          "evalue": "ignored",
          "traceback": [
            "\u001b[0;31m---------------------------------------------------------------------------\u001b[0m",
            "\u001b[0;31mNameError\u001b[0m                                 Traceback (most recent call last)",
            "\u001b[0;32m<ipython-input-26-27e7d544490e>\u001b[0m in \u001b[0;36m<module>\u001b[0;34m()\u001b[0m\n\u001b[1;32m      1\u001b[0m \u001b[0mpipeline\u001b[0m\u001b[0;34m.\u001b[0m\u001b[0mfit\u001b[0m\u001b[0;34m(\u001b[0m\u001b[0mX_train\u001b[0m\u001b[0;34m,\u001b[0m \u001b[0my_train\u001b[0m\u001b[0;34m)\u001b[0m\u001b[0;34m\u001b[0m\u001b[0;34m\u001b[0m\u001b[0m\n\u001b[0;32m----> 2\u001b[0;31m \u001b[0mnp\u001b[0m\u001b[0;34m.\u001b[0m\u001b[0msqrt\u001b[0m\u001b[0;34m(\u001b[0m\u001b[0mmetrics\u001b[0m\u001b[0;34m.\u001b[0m\u001b[0mmean_squared_error\u001b[0m\u001b[0;34m(\u001b[0m\u001b[0my_test\u001b[0m\u001b[0;34m,\u001b[0m \u001b[0mpipeline\u001b[0m\u001b[0;34m.\u001b[0m\u001b[0mpredict\u001b[0m\u001b[0;34m(\u001b[0m\u001b[0mX_test\u001b[0m\u001b[0;34m)\u001b[0m\u001b[0;34m)\u001b[0m\u001b[0;34m)\u001b[0m\u001b[0;34m\u001b[0m\u001b[0;34m\u001b[0m\u001b[0m\n\u001b[0m",
            "\u001b[0;31mNameError\u001b[0m: name 'metrics' is not defined"
          ]
        }
      ]
    },
    {
      "cell_type": "code",
      "metadata": {
        "colab": {
          "base_uri": "https://localhost:8080/"
        },
        "id": "ts6LU-7j7CIY",
        "outputId": "6054eafe-1f36-4a09-a92d-e03c373127dd"
      },
      "source": [
        "from sklearn import metrics\r\n",
        "y_test_true = np.array(y_test).reshape(-1,1)\r\n",
        "prd = np.array(pipeline.predict(X_test)).reshape(-1,1)\r\n",
        "np.sqrt(metrics.mean_squared_error(prepro_y.inverse_transform(y_test_true),prepro_y.inverse_transform( prd)))"
      ],
      "execution_count": 29,
      "outputs": [
        {
          "output_type": "execute_result",
          "data": {
            "text/plain": [
              "150.72330197168785"
            ]
          },
          "metadata": {
            "tags": []
          },
          "execution_count": 29
        }
      ]
    },
    {
      "cell_type": "code",
      "metadata": {
        "id": "8ym_gwktUbMF"
      },
      "source": [
        ""
      ],
      "execution_count": null,
      "outputs": []
    },
    {
      "cell_type": "code",
      "metadata": {
        "id": "3yaisgLXUbQN"
      },
      "source": [
        "param_grid = {'bootstrap': [True, False],\r\n",
        " 'max_depth': [ 30, 40, 60, 70, 90, 100, None],\r\n",
        " 'max_features': ['auto', 'sqrt'],\r\n",
        " 'min_samples_leaf': [1, 2, 4],\r\n",
        " 'min_samples_split': [2, 5, 10],\r\n",
        " 'n_estimators': [100, 200,300]}"
      ],
      "execution_count": 30,
      "outputs": []
    },
    {
      "cell_type": "code",
      "metadata": {
        "id": "b9uLDN_C4PGO"
      },
      "source": [
        "xx = X_train[:20000]\r\n",
        "yy = y_train[:20000]"
      ],
      "execution_count": 31,
      "outputs": []
    },
    {
      "cell_type": "code",
      "metadata": {
        "colab": {
          "base_uri": "https://localhost:8080/"
        },
        "id": "DGaIB0e74SdY",
        "outputId": "e8b4f2d8-09bf-4135-a63f-e1436e23f8a8"
      },
      "source": [
        "from sklearn.model_selection import RandomizedSearchCV\r\n",
        "rf = RandomForestRegressor()\r\n",
        "rf_random = RandomizedSearchCV(estimator = rf, param_distributions = param_grid, n_iter = 100, cv = 3, verbose=2, random_state=42, n_jobs = -1)\r\n",
        "# Fit the random search model\r\n",
        "rf_random.fit(xx, yy)"
      ],
      "execution_count": 33,
      "outputs": [
        {
          "output_type": "stream",
          "text": [
            "Fitting 3 folds for each of 100 candidates, totalling 300 fits\n"
          ],
          "name": "stdout"
        },
        {
          "output_type": "stream",
          "text": [
            "[Parallel(n_jobs=-1)]: Using backend LokyBackend with 2 concurrent workers.\n",
            "[Parallel(n_jobs=-1)]: Done  37 tasks      | elapsed:  3.5min\n",
            "/usr/local/lib/python3.6/dist-packages/joblib/externals/loky/process_executor.py:691: UserWarning: A worker stopped while some jobs were given to the executor. This can be caused by a too short worker timeout or by a memory leak.\n",
            "  \"timeout or by a memory leak.\", UserWarning\n",
            "[Parallel(n_jobs=-1)]: Done 158 tasks      | elapsed: 20.1min\n",
            "[Parallel(n_jobs=-1)]: Done 300 out of 300 | elapsed: 37.6min finished\n",
            "/usr/local/lib/python3.6/dist-packages/sklearn/model_selection/_search.py:739: DataConversionWarning: A column-vector y was passed when a 1d array was expected. Please change the shape of y to (n_samples,), for example using ravel().\n",
            "  self.best_estimator_.fit(X, y, **fit_params)\n"
          ],
          "name": "stderr"
        },
        {
          "output_type": "execute_result",
          "data": {
            "text/plain": [
              "RandomizedSearchCV(cv=3, error_score=nan,\n",
              "                   estimator=RandomForestRegressor(bootstrap=True,\n",
              "                                                   ccp_alpha=0.0,\n",
              "                                                   criterion='mse',\n",
              "                                                   max_depth=None,\n",
              "                                                   max_features='auto',\n",
              "                                                   max_leaf_nodes=None,\n",
              "                                                   max_samples=None,\n",
              "                                                   min_impurity_decrease=0.0,\n",
              "                                                   min_impurity_split=None,\n",
              "                                                   min_samples_leaf=1,\n",
              "                                                   min_samples_split=2,\n",
              "                                                   min_weight_fraction_leaf=0.0,\n",
              "                                                   n_estimators=100,\n",
              "                                                   n_jobs=None, oob_score=Fals...\n",
              "                                                   warm_start=False),\n",
              "                   iid='deprecated', n_iter=100, n_jobs=-1,\n",
              "                   param_distributions={'bootstrap': [True, False],\n",
              "                                        'max_depth': [30, 40, 60, 70, 90, 100,\n",
              "                                                      None],\n",
              "                                        'max_features': ['auto', 'sqrt'],\n",
              "                                        'min_samples_leaf': [1, 2, 4],\n",
              "                                        'min_samples_split': [2, 5, 10],\n",
              "                                        'n_estimators': [100, 200, 300]},\n",
              "                   pre_dispatch='2*n_jobs', random_state=42, refit=True,\n",
              "                   return_train_score=False, scoring=None, verbose=2)"
            ]
          },
          "metadata": {
            "tags": []
          },
          "execution_count": 33
        }
      ]
    },
    {
      "cell_type": "code",
      "metadata": {
        "colab": {
          "base_uri": "https://localhost:8080/"
        },
        "id": "5IzQgEfR4o00",
        "outputId": "dbac3db4-d9a8-4a3c-af8f-c881a94c29f4"
      },
      "source": [
        "rf_random.best_params_"
      ],
      "execution_count": 34,
      "outputs": [
        {
          "output_type": "execute_result",
          "data": {
            "text/plain": [
              "{'bootstrap': False,\n",
              " 'max_depth': 100,\n",
              " 'max_features': 'sqrt',\n",
              " 'min_samples_leaf': 1,\n",
              " 'min_samples_split': 5,\n",
              " 'n_estimators': 300}"
            ]
          },
          "metadata": {
            "tags": []
          },
          "execution_count": 34
        }
      ]
    },
    {
      "cell_type": "code",
      "metadata": {
        "id": "acM19Id4EdXn"
      },
      "source": [
        "mod = RandomForestRegressor(bootstrap= False,\r\n",
        " max_depth= 100,\r\n",
        " max_features='sqrt',\r\n",
        " min_samples_leaf= 1,\r\n",
        " min_samples_split= 5,\r\n",
        " n_estimators= 1000)"
      ],
      "execution_count": 43,
      "outputs": []
    },
    {
      "cell_type": "code",
      "metadata": {
        "colab": {
          "base_uri": "https://localhost:8080/"
        },
        "id": "AtLVWF44EjZO",
        "outputId": "644f1247-f7ac-4152-8618-586c7cebc030"
      },
      "source": [
        "mod.fit(X_train,y_train)"
      ],
      "execution_count": null,
      "outputs": [
        {
          "output_type": "stream",
          "text": [
            "/usr/local/lib/python3.6/dist-packages/ipykernel_launcher.py:1: DataConversionWarning: A column-vector y was passed when a 1d array was expected. Please change the shape of y to (n_samples,), for example using ravel().\n",
            "  \"\"\"Entry point for launching an IPython kernel.\n"
          ],
          "name": "stderr"
        }
      ]
    },
    {
      "cell_type": "code",
      "metadata": {
        "id": "5pZFTGBDEtQM"
      },
      "source": [
        "y_test_true = np.array(y_test).reshape(-1,1)\r\n",
        "prd = np.array(pipeline.predict(X_test)).reshape(-1,1)\r\n",
        "np.sqrt(metrics.mean_squared_error(prepro_y.inverse_transform(y_test_true),prepro_y.inverse_transform( prd)))"
      ],
      "execution_count": null,
      "outputs": []
    }
  ]
}